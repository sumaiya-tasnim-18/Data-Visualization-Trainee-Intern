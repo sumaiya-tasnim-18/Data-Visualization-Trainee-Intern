{
 "cells": [
  {
   "cell_type": "markdown",
   "id": "f5944629",
   "metadata": {},
   "source": [
    "# Dataset: ApplicantData.csv\n",
    "# Data Cleaning Process"
   ]
  },
  {
   "cell_type": "markdown",
   "id": "8b8be422",
   "metadata": {},
   "source": [
    "Importing necessary libraries"
   ]
  },
  {
   "cell_type": "code",
   "execution_count": 173,
   "id": "45e3ca8d",
   "metadata": {},
   "outputs": [],
   "source": [
    "import numpy as np\n",
    "import pandas as pd\n",
    "import re"
   ]
  },
  {
   "cell_type": "markdown",
   "id": "a090d145",
   "metadata": {},
   "source": [
    "Loading Dataset "
   ]
  },
  {
   "cell_type": "code",
   "execution_count": 174,
   "id": "7f2df0e9",
   "metadata": {},
   "outputs": [],
   "source": [
    "df = pd.read_csv(\"ApplicantData.csv\")"
   ]
  },
  {
   "cell_type": "markdown",
   "id": "59ad6a75",
   "metadata": {},
   "source": [
    "Total Rows & Columns"
   ]
  },
  {
   "cell_type": "code",
   "execution_count": 175,
   "id": "5602236b",
   "metadata": {},
   "outputs": [
    {
     "name": "stdout",
     "output_type": "stream",
     "text": [
      "Total Rows: 37882\n",
      "Total Columns: 4\n"
     ]
    }
   ],
   "source": [
    "print(f\"Total Rows: {df.shape[0]}\")\n",
    "print(f\"Total Columns: {df.shape[1]}\")"
   ]
  },
  {
   "cell_type": "markdown",
   "id": "7889f9fd",
   "metadata": {},
   "source": [
    "Checking Datatype"
   ]
  },
  {
   "cell_type": "code",
   "execution_count": 176,
   "id": "6cecc92e",
   "metadata": {},
   "outputs": [
    {
     "name": "stdout",
     "output_type": "stream",
     "text": [
      "App_ID          object\n",
      "Country         object\n",
      "University      object\n",
      "Phone_Number    object\n",
      "dtype: object\n"
     ]
    }
   ],
   "source": [
    "print(df.dtypes)"
   ]
  },
  {
   "cell_type": "markdown",
   "id": "3ec75f5e",
   "metadata": {},
   "source": [
    "Missing Values Checking"
   ]
  },
  {
   "cell_type": "code",
   "execution_count": 177,
   "id": "676288a9",
   "metadata": {},
   "outputs": [
    {
     "name": "stdout",
     "output_type": "stream",
     "text": [
      "App_ID          1\n",
      "Country         0\n",
      "University      0\n",
      "Phone_Number    0\n",
      "dtype: int64\n"
     ]
    }
   ],
   "source": [
    "print(df.isnull().sum())"
   ]
  },
  {
   "cell_type": "markdown",
   "id": "b6db60e5",
   "metadata": {},
   "source": [
    "unique values for each column- consistency checking"
   ]
  },
  {
   "cell_type": "code",
   "execution_count": 178,
   "id": "5196877e",
   "metadata": {},
   "outputs": [
    {
     "name": "stdout",
     "output_type": "stream",
     "text": [
      "Column: App_ID\n",
      "['12345' '347397' '358065' ... ',,,,,' '/////////' nan]\n",
      "Total Unique: 15417\n",
      "\n",
      "Column: Country\n",
      "['India' 'Nigeria' 'saarthaksingh05@gmail.com' 'satya.sai1881@gmail.com'\n",
      " 'sharmaishaan16@gmail.com' 'pillir1026@outlook.com'\n",
      " 'shalinidec05@gmail.com' 'rameshpriyanka536@gmail.com'\n",
      " 'samjainsamj16@gmail.com' 'ratneshry06@gmail.com'\n",
      " 'dhruvvekariya.vmc18@gmail.com' 'kanishk.9871@gmail.com'\n",
      " 'gayathri.keenala@gmail.com' 'lakshaymunjal17@gmail.com'\n",
      " 'shah.rahulsailesh@gmail.com' 'sekhar.fall2022@gmail.com'\n",
      " 'glourdurani@gmail.com' 'polishetty.jyothi08@gmail.com'\n",
      " 'chsrilatha.eduf23@gmail.com' 'saimukeshjakkula2023@gmail.com'\n",
      " 'phanendrakatta@gmail.com' 'garv.career@gmail.com'\n",
      " 'likithapalakolanu08@gmail.com' 'saisandeep.pashem007@gmail.com'\n",
      " 'nehareddy6721@gmail.com' 'polanisaibalaji@gmail.com'\n",
      " 'reddyabhinay037@gmail.com' 'ganipineni.vinay999@gmail.com'\n",
      " 'pasupulatepavankalyan583@gmail.com' 'ganesh.edu2023@gmail.com'\n",
      " 'gauthamkanyadi@gmail.com' 'riyasubashmendon@gmail.com'\n",
      " 'ravitejanuthakki123@gmail.com' 'namitanaikwadi04@gmail.com'\n",
      " 'parthshroff1007@gmail.com' 'siddardh3.v@gmail.com'\n",
      " 'shrushtigugale14@gmail.com' 'swapna.lbf286@gmail.com'\n",
      " 'satam.arya19@gmail.com' 'Hemilacharya2023@gmail.com'\n",
      " 'nsitsahilbhola@gmail.com' 'saisreekarsesham@gmail.com'\n",
      " 'juturuprem2000@gmail.com' 'manobhiram.pabbathi@gmail.com' 'na' 'naq'\n",
      " 'farheen8223@gmail.com' 'sriram18042002@gmail.com'\n",
      " 'sonalisawant79@gmail.com' 'gowtham79789@gmail.com'\n",
      " 'nrupamythali01@gmail.com' 'gpavankalyan1102@gmail.com'\n",
      " 'nadellaavinash7@gmail.com' 'spkarthiek2424@gmail.com'\n",
      " 'pranithavelusamysundararaj@gmail.com' 'gopikrishna.spring2023@gmail.com'\n",
      " 'preethamrakshith11@gmail.com' 'kmugdha99@gmail.com'\n",
      " 'samheeta.g1@gmail.com' 'rhrithikreddy666@gmail.com'\n",
      " 'karthikreddychanda123@gmail.com' 'maddy.vempaty@gmail.com'\n",
      " 'sasank1613@gmail.com' 'pradeepcj98@gmail.com'\n",
      " 'chandana.neerubhavi@gmail.com' 'imrannshaiks@gmail.com'\n",
      " 'sawantlikhitin@gmail.com' 'kartikdhaduk98.2023@gmail.com'\n",
      " 'manishankarchamidisetty@gmail.com' 'sgs24999@gmail.com'\n",
      " 'desamvenkateswarareddy2762@gmail.com' 'sakshinagapure28@gmail.com'\n",
      " 'harshithavenkatesh2204@gmail.com' 'ksdchinni1784@gmail.com'\n",
      " 'manasgarg123@gmail.com' 'lakshmikolasani77@gmail.com'\n",
      " 'bollaharika13@gmail.com' 'sahilhambir26@gmail.com'\n",
      " 'sahithi.balerao29@gmail.com' 'navanishwar123@gmail.com'\n",
      " 'sadwik3457@gmail.com' 'harshavardhan564@gmail.com' 'ds4365778@gmail.com'\n",
      " 'rishithareddy835@gmail.com' 'jhashasri.vjaf17@gmail.com'\n",
      " 'chaithanyakumarsm19@gmail.com' 'preetham318@gmail.com'\n",
      " 'prashanthreddynarahari@gmail.com' 'shraddha.rakholiya9@gmail.com'\n",
      " 'kommitiakhilareddy@gmail.com' 'kachiomkar31@gmail.com'\n",
      " 'nimishvaidya99@gmail.com' 'kishoreshiva123456@gmail.com'\n",
      " 'harmannanot@gmail.com' 'divya.varghese2108@gmail.com'\n",
      " 'mahaksharma8899@gmail.com' 'rakshaanarayan01@gmail.com'\n",
      " 'mediboinamalleswari2@gmail.com' 'jyothi290600@gmail.com'\n",
      " 'ndtaraka09@gmail.com' 'ksk21082002@gmail.com' 'nakkadeepak01@gmail.com'\n",
      " 'ritwikadas0707@gmail.com' 'rohith18102001@gmail.com'\n",
      " 'reddyreddynayani@gmail.com' 'durgaprasad.pasumarthi123@gmail.com'\n",
      " 'kumyeshwanthreddy1999@gmail.com' 'sairamdubbaka05@gmail.com'\n",
      " 'poojithsainni2288@gmail.com' 'maniss.mishra23@gmail.com'\n",
      " 'harsh5432@yahoo.in' 'Nagesh.lbf475@gmail.com' 'iparkarrohit@gmail.com'\n",
      " 'sheetalkan1999@gmail.com' 'nidhichandarana03@gmail.com'\n",
      " 'mangeshkingaonkar@yahoo.com' 'rohithreddy.ywf17@gmail.com'\n",
      " 'pusulurivarnitha@gmail.com' 'manikanthatthapuram2000@gmail.com'\n",
      " 'snehshah741@gmail.com' 'sakevinay5138@gmail.com'\n",
      " 'hemanthk.edu23@gmail.com' 'piyushinduja20@gmail.com'\n",
      " 'kadiyamjitendra@gmail.com' 'kevingodfreyverpula@gmail.com'\n",
      " 'nupoormathpati@gmail.com' 'dyavanavenivamshikrishna@gmail.com'\n",
      " 'pranavagykoti@gmail.com' 'likithalikky.vsln@gmail.com'\n",
      " 'syedhashirahmed0507@gmail.com' 'rupakdgr55@gmail.com'\n",
      " 'jaswanth5249@gmail.com' 'rampuramakshay7@gmail.com'\n",
      " 'manoharb.fall2023@gmail.com' 'mailshivakumar.dsk@gmail.com'\n",
      " 'harshithdr10@gmail.com' 'sanjayb.af212@gmail.com'\n",
      " 'rishirajani97@gmail.com' 'santhoshkn.edu2023@gmail.com'\n",
      " 'poojagajare30@gmail.com' 'rithvikrangaraj2@gmail.com'\n",
      " 'lohit.lbf620@gmail.com' 'parvathimalapati7@gmail.com'\n",
      " 'sundarmachani@gmail.com' 'pulimamidibhargavi817@gmail.com'\n",
      " 'pradeepbandla123@gmail.com' 'mehakmathur2000@gmail.com'\n",
      " 'mailto.farhama@gmail.com' 'kandoiachal@gmail.com'\n",
      " 'sathwikthammi@gmail.com' 'ramyakosaraju0201@gmail.com'\n",
      " 'shreyathakur2016@gmail.com' 'haindu.15@gmail.com'\n",
      " 'revanthreddyk1@gmail.com' 'nikhil.yaf93@gmail.com'\n",
      " 'krishsakharkar03@gmail.com' 'saitejavasa2103@gmail.com'\n",
      " 'mosalichandhana99@gmail.com' 'gudurureddy0399@gmail.com'\n",
      " 'girishsaivarma@gmail.com' 'gloknadh.ao@gmail.com'\n",
      " 'mithali9999@gmail.com' 'Shahjaimin610@gmail.com' 'chhetamayur@gmail.com'\n",
      " 'shaikbajivali169@gmail.com' 'manikantadavuluri08@gmail.com'\n",
      " 'prathyush.lebaku7@gmail.com' 'gunsai22@gmail.com'\n",
      " 'dantulurimanojvarmastudy@gmail.com' 'mourya.eduf23@gmail.com'\n",
      " 'rutwik126@gmail.com' 'linson24rodrigues@gmail.com'\n",
      " 'prashantsalunke2001@gmail.com' 'mohdabbaskhan21@gmail.com'\n",
      " 'eshaan0209@gmail.com' 'krinas393@gmail.com' 'lakshmisashrika@gmail.com'\n",
      " 'charansaipuchapotula123@gmail.com' 'parwazekam@gmail.com'\n",
      " 'deepthisanikommu512@gmail.com' 'chaitanya.kirkase@gmail.com'\n",
      " 'mohanendraapplication@gmail.com' 'soumyaganesh298@gmail.com'\n",
      " 'chsktg031@gmail.com' 'shivamsatwara842@gmail.com'\n",
      " 'jaswanthmandava027@gmail.com' 'rohithyvcs@gmail.com'\n",
      " 'ravi2001raghav@gmail.com' 'parmeshwalunj@gmail.com'\n",
      " 'hema724821@gmail.com' 'kranthipedamajji@gmail.com'\n",
      " 'kiranmayeev156@gmail.com' 'khushipatel2871@gmail.com'\n",
      " 'p.pranee143@gmail.com' 'rohan.ghirnikar21@gmail.co'\n",
      " 'neham1998@gmail.com' 'deepaktn282@gmail.com'\n",
      " 'sairamcharan2457@gmail.com' 'sriranjan.srikanth4@gmail.com'\n",
      " 'sakethreddy5880@gmail.com' 'p.varunrao123@gmail.com'\n",
      " 'sakhamurigeethika123@gmail.com' 'muthireddyakash@gmail.com'\n",
      " 'klharshitha1@gmail.com' 'contact.rahul.balaji@gmail.com'\n",
      " 'patelviraj1091@gmail.com' 'kenilpatelk041@gmail.com'\n",
      " 'rohithkandula937@gmail.com' 'sreejak.vfd271@gmail.com'\n",
      " 'cherukurisirishasiri@gmail.com' 'rajithamay7@gmail.com'\n",
      " 'nikhilsriram2001@gmail.com' 'srikup20@gmail.com'\n",
      " 'pavankumar98gurram@gmail.com' 'hrishi.dighe@gmail.com'\n",
      " 'lakshmanlucky125@gmail.com' 'manogna6864@gmail.com'\n",
      " 'dhanushuppalapati852@gmail.com' '-' 'prajapatizeel240024@gmail.com'\n",
      " 'ronakca2023@gmail.com' 'navida08@gmail.com' 'msts.mohilk16@gmail.com'\n",
      " 'suthara727@gmail.com' 'prateekgupta2601@gmail.com'\n",
      " 'reddy.rishi2000@gmail.com' 'smitasarkar2001@gmail.com'\n",
      " 'kasalapoojitha.2021@gmail.com' 'miloni2023@gmail.com'\n",
      " 'pyash7621@gmail.com' 'hunnyjumani26@gmail.com' 'depatel.2530@gmail.com'\n",
      " 'harshitha.vfd295@gmail.com' 'jagadeeshutukuru@gmail.com'\n",
      " 'soubhagyaakkena@gmail.com' 'dharmanavasuvd@gmail.com'\n",
      " 'shreyauttarwar85@gmail.com' 'masumbabamohmmad123@gmail.com'\n",
      " 'mohammadjaveedbaig@gmail.com' 'harshitha.kcf89@gmail.com'\n",
      " 'shrijadhav9763@gmail.com' 'sukruthidurusoju8940@gmail.com'\n",
      " 'dhavalwaghere@gmail.com' 'kvinay072@gmail.com'\n",
      " 'maddinenilakshmiprasanna7@gmail.com' 'saianurag2023@gmail.com'\n",
      " 'shivatmika.29@gmail.com' 'kumargaurav.sinha260698@gmail.com'\n",
      " 'sriharshavemuri7@gmail.com' 'eerladinaveeresh@gmail.com'\n",
      " 'mahakpurania@gmail.com' 'manojkumarjala0098@gmail.com'\n",
      " 'pranjanigopani53@gmail.com' 'chaitra.gurjar@gmail.com'\n",
      " 'jadhavakshay0701@gmail.com' 'sivasaiudaya@gmail.com'\n",
      " 'keerthi.vgf334@gmail.com' 'jvpinnamaraju@gmail.com'\n",
      " 'deekshith1299@gmail.com' 'Taiwan' 'Pakistan' 'ijaz.ahmed04@gmail.com'\n",
      " 'sarimraiz11@gmail.com' 'junaid.khan@utdallas.edu'\n",
      " 'javeria.ayyub@gmail.com' 'mahambasit2000@gmail.com'\n",
      " 'rohin.sharma.1993@gmail.com' 'jmarium20@gmail.com'\n",
      " 'hayatrahman731@gmail.com' 'mfuzailedu@gmail.com'\n",
      " 'sohaib.salahuddinakbar@gmail.com' 'omer_munam@yahoo.com'\n",
      " 'hasnain33920@gmail.com' 'fizanaeem0012@gmail.com'\n",
      " 'hiba.hasan.siddiqui@gmail.com' 'renishaacharya23@gmail.com'\n",
      " 'prastut79@gmail.com' 'ghimiresudeep07@gmail.com' 'pratikmb7@gmail.com'\n",
      " 'dinesh.745421@bkmc.tu.edu.np' 'ram.pageni@pmc.edu.np'\n",
      " 'sanjeevshapkota@gmail.com' 'regmi.nirmala1@gmail.com'\n",
      " 'ddmelamchi@gmail.com' 'samipradhan07@gmail.com' 'nshrey53@gmail.com'\n",
      " 'nigammalla@gmail.com' 'pasabhui@gmail.com' 'safalgautam2593@gmail.com'\n",
      " 'ravindrashahktm@gmail.com' 'j.tasnimkhan@outlook.com'\n",
      " 'sumaaairakutub@gmail.com' 'Hasan.sust.fet@gmail.com'\n",
      " 'nusratanjum4545@gmail.com' 'kaushikpauljoy@gmail.com'\n",
      " 'nazmulhaque.aiub@gmail.com' 'sharuf.sb.hossain@gmail.com'\n",
      " 'koushik_dey@hotmail.com' 'farzanayasmin119@gmail.com'\n",
      " 'ragibrownak2825@outlook.com' 'syeda.maliha.mon@gmail.com'\n",
      " 'sudip.kumar.sengupta@g.bracu.ac.bd' 'protiknag08@gmail.com'\n",
      " 'priam.me.buet.15@gmail.com' 'ipshita.ishrar@g.bracu.ac.bd'\n",
      " 'shahina0048@gmail.com' 'malihakabir07@gmail.com'\n",
      " 'safayat.b.hakim@iut-dhaka.edu' 'kawsarfakir96@gmail.com' 'Bangladesh'\n",
      " 'csc103.fall2010.10305038@gmail.com' 'swarajitboney@gmail.com'\n",
      " 'rifatrahman097@gmail.com' 'hossenms@gmail.com' 'ridon993@gmail.com'\n",
      " 'refatnoor.eee@gmail.com' 'ruzzaibrahim@gmail.com' 'mnamiz@gmail.com'\n",
      " 'mtbilto@gmail.com' 'idowuidelani@outlook.com' 'mollabakare@gmail.com'\n",
      " 'imamzhb157@gmail.com' 'China' 'callistusokonkwor@gmail.com'\n",
      " 'prakriti.pokhrel3@gmail.com' 'naseebabdulkareem@gmail.com'\n",
      " 'sayandeepmaity328@gmail.com' 'mpentakota01@gmail.com'\n",
      " 'rahul99.veeramachaneni@gmail.com' 'pranavkurundkar99@gmail.com'\n",
      " 'saitarun.y.vjaf84@gmail.com' 'rithwikreddye@gmail.com'\n",
      " 'navyasribommakanti8@gmail.com' 'meghana.viha@gmail.com'\n",
      " 'krithikareddy382@gmail.com' 'pavan.adusumalli456@gmail.com'\n",
      " 'pavanmondeddu@gmail.com' 'srk.nlpt@gmail.com' 'hanimi.uf76@gmail.com'\n",
      " 'sanskriteerajpal@gmail.com' 'suryatej.duppanapudi@gmail.com'\n",
      " 'lahari.lbf307@gmail.com' 'sudduv232@gmail.com' 'kanand00@hotmail.com'\n",
      " 'indrajeetkumar061096@gmail.com' 'parthnshinde101@gmail.com'\n",
      " 'harshaljorwekar678@gmail.com' 'syedarfath2505@gmail.com'\n",
      " 'dangichure17@gmail.com' 'muzaich78@gmail.com' 'koechabby2021@gmail.com'\n",
      " 'kimathi.antonio@gmail.com' 'mzileni55@gmail.com'\n",
      " 'mobinanaseri9977@gmail.com' 's.saedpana@gmail.com'\n",
      " 'nezhlamadabadi@gmail.com' 'ehsan.nicknejad@gmail.com'\n",
      " 'rahim.afshaar@gmail.com' 'hosseinzamani1995@gmail.com'\n",
      " 'mnikoop@g.clemson.edu' 'sepideh.marjae@gmail.com'\n",
      " 'meysamsahebishirkhani@gmail.com' 'erfanmirhaji@gmail.com'\n",
      " 'nima.sakhaee@gmail.com' 'jafaripourparvaneh@gmail.com'\n",
      " 'dorsar33@yahoo.com' 'kamand.taherkhani@gmail.com'\n",
      " 'mohammadtaghirayati@gmail.com' 'cfd.dkk@gmail.com'\n",
      " 'emadthegreat1@gmail.com' 'mr.pakdel.m@gmail.com'\n",
      " 'masi.dashtban@gmail.com' 'mahya.asadalizadeh77@gmail.com'\n",
      " 'nargesshaker229@gmail.com' 'marziejanbazi1999@gmail.com'\n",
      " 'kianakazari80@gmail.com' 'kosaraminj@gmail.com'\n",
      " 'farbod.naderi.nd@gmail.com' 'shahidi.negi@gmail.com'\n",
      " 'solbizahra94@gmail.com' 'em.mojav@gmail.com' 'jarrahiarmin@yahoo.com'\n",
      " 'mj.ahmadimalayeri@gmail.com' 'pedrama8825@gmail.com'\n",
      " 'leila.rostamian46@gmail.com' 'n.yousefi.777@gmail.com'\n",
      " 'panteasaberi91@gmail.com' 'reza.zakerian@slu.edu'\n",
      " 'saeedi.sanam@gmail.com' 'sjmona99@gmail.com' 'sahab.taali@ymail.com'\n",
      " 'omidjaliliandb@gmail.com' 'mehrdad.tamiji@gmail.com'\n",
      " 'mosayebpooladi.og@gmail.com' 'ghanaatian.amirhossein7@gmail.com'\n",
      " 'f.darehgazani@gmail.com' 'servat.mahnaz@gmail.com'\n",
      " 'rozaghaedi90@gmail.com' 'neda.saffari7115@gmail.com'\n",
      " 'hw.tab.au@gmail.com' 'pkisara28@gmail.com'\n",
      " 'rshahbazimehrizi@hawk.iit.edu' 'farnazrahmi@gmail.com'\n",
      " 'sakshikannav@gmail.com' 'bommena.haswika@gmail.com'\n",
      " 'gnishanth28600@gmail.com' 'ravi.lns400@gmail.com'\n",
      " 'sahithivangala23@gmail.com' 'sridev678@gmail.com' 'nitya2411@gmail.com'\n",
      " 'sriramchowdary936@gmail.com' 'jayaram.ywf60@gmail.com'\n",
      " 'spandana.y.vjaf32@gmail.com' 'srinagavenkatavijaykumarp@gmail.com'\n",
      " 'sushantbodke77@gmail.com' 'rishibhasharma1@gmail.com'\n",
      " 'noyaljosephbinu98@gmail.com' 'chougule.omkar10@gmail.com'\n",
      " 'mohdhasanf06@gmail.com' 'rl558609@gmail.com' 'hrithik.amf308@gmail.com'\n",
      " 'pratik.kht2001@gmail.com' 'naveen12051999@gmail.com'\n",
      " 'Navyachenna54@gmail.com' 'srikanths.yad1@gmail.com'\n",
      " 'pampadevi89@gmail.com' 'souvikkundu009@gmail.com'\n",
      " 'ramyagundapuneni.lns203@gmail.com' 'keesariupender2000@gmail.com'\n",
      " 'mistry.khushank@gmail.com' 'deekshikolla4@gmail.com'\n",
      " 'madhuri.yf141@gmail.com' 'suhass7187@gmail.com'\n",
      " 'gonsalvesmikhail@gmail.com' 'palaksharaskapoorwala@gmail.com'\n",
      " 'ganasubs98@gmail.com' 'darshanshetty183@gmail.com'\n",
      " 'ninadmali53@gmail.com' 'sdharmil67@gmail.com'\n",
      " 'fatemehhaji1998@gmail.com' 'leila.mousazadeh.biotechnology@gmail.com'\n",
      " 'sadaf.bahramirad@yahoo.com' 'Mobina.kashaniyan@yahoo.com'\n",
      " 'neda.momeni.art@gmail.com' 'marzieh.s.forootan@gmail.com'\n",
      " 'kimya.yadollahpour@gmail.com' 'shivanifarahnaz@gmail.com'\n",
      " 'shubhamkulhariya@gmail.com' 'savanam.reddy10@gmail.com'\n",
      " 'rushimaadhav1999@gmail.com' 'k.rahmaditia@gmail.com'\n",
      " 'suldywatira@gmail.com' 'mhmdsalameen@gmail.com' 'bsjadallah@gmail.com'\n",
      " 'mathiasyeboah18@gmail.com' 'eoeffah001@outlook.com'\n",
      " 'mawufemorjnr@gmail.com' 'giacomo.terragni@gmail.com'\n",
      " 'lreklaoui@gmail.com' 'ke_shav@hotmail.co.uk' 'mimintambo@gmail.com'\n",
      " 'jnurmetova92@gmail.com' 'maureenmills77@yahoo.co.uk'\n",
      " 'dewantanvir@iut-dhaka.edu' 'isamuradly@gmail.com' 'South Africa'\n",
      " 'pavani.kcf812@gmail.com' 'dwarakeshreddy5@gmail.com'\n",
      " 'sahilbhaware01@gmail.com' 'jainrashmi030@gmail.com'\n",
      " 'duddukurulokesh4118@gmail.com' 'shivanandreddygundu@gmail.com'\n",
      " 'gurunath.reddy0381@gmail.com' 'garimasharmaa23@gmail.com'\n",
      " 'kudayakrishna10@gmail.com' 'shettyshreya.sj@gmail.com'\n",
      " 'himavardhan292@gmail.com' 'prajodhpragaths@gmail.com'\n",
      " 'suryavegesna27@gmail.com' 'shelkevaishnavi.1999@gmail.com'\n",
      " 'krishna1899prasad@gmail.com' 'krishna.dasyam06@gmail.com'\n",
      " 'sakshimpandit@gmail.com' 'kancharlasaisivani@gmail.com'\n",
      " 'muzaffarali.wrf175@gmail.com' 'laharibasavaraju01@gmail.com'\n",
      " 'rideepmoran@gmail.com' 'jahnvidesai312001@gmail.com'\n",
      " 'sonureddy15316@gmail.com' 'hardikkikavat01@gmail.com'\n",
      " 'mohammadtameemattar@gmail.com' 'shreyagupta3004@gmail.com'\n",
      " 'priyadarshanbeepangi1@gmail.com' 'bsr1212000@gmail.com'\n",
      " 'neha.lbf367@gmail.com' 'pradnyarghadge@gmail.com'\n",
      " 'krutraiyani2001@gmail.com' 'harshareddyhvr630@gmail.com'\n",
      " 'manukondasagarbabu@gmail.com' 'nellurinagasaikrishna@gmail.com'\n",
      " 'hirtikamirghani30@gmail.com' 'jyoshnakoppala55@gmail.com'\n",
      " 'ssneha.bsmanian@gmail.com' 'swapnils0098@gmail.com'\n",
      " 'kotlaashishreddy18@gmail.com' 'saibharath.lattupalli@gmail.com'\n",
      " 'sangati.shah@gmail.com' 'navuluriyaswanthgufus2023@gmail.com'\n",
      " 'sainikhil5959@gmail.com' 'kshirazanwar@gmail.com'\n",
      " 'kirthibisoi.1210@gmail.com' 'saisandhiptha.ywf58@gmail.com'\n",
      " 'shubhamsamanta1@gmail.com' 'dkiran100@gmail.com'\n",
      " 'shwettasshinde@gmail.com' 'shahjuhi481@gmail.com'\n",
      " 'laxminarsimha.yf50@gmail.com' 'shethiameet1@gmail.com'\n",
      " 'dharmikainturu@gmail.com' 'shanmukha.fall2023@gmail.com'\n",
      " 'srivatsan.ranganath@gmail.com' 'shyam.fall2023@gmail.com'\n",
      " 'poornachand778@gmail.com' 'shreegowri1234@gmail.com'\n",
      " 'sujan0263@gmail.com' 'galipallykushal@gmail.com'\n",
      " 'navanethmaadhav@gmail.com' 'charishmanadavala@gmail.com'\n",
      " 'shivanireddy1951@gmail.com' 'shreekms23@gmail.com'\n",
      " 'chintalurianirudh@gmail.com' 'mrunalipuralkar31@gmail.com'\n",
      " 'sphoorthysrirama28@gmail.com' 'reddyjanu11@gmail.com'\n",
      " 'rangisettisaisaran@gmail.com' 'harshita.af1@gmail.com'\n",
      " 'phanendharreddyk@gmail.com' 'koppinenitejanaidu@gmail.com'\n",
      " 'he got admitted into another university' 'surlekarh@gmail.com'\n",
      " 'shirisha2398@gmail.com' 'kandregulapraneet18@gmail.com'\n",
      " 'chandrashekhar199825@gmail.com' 'syam.edu2023@gmail.com'\n",
      " 'dnyanadajdeo@gmail.com' 'kcsanjana@gmail.com'\n",
      " 'sumanthpulikonda007@gmail.com' 'jahnavi.fall2023@gmail.com'\n",
      " 'manishasure18@gmail.com' 'maithililingala.info@gmail.com'\n",
      " 'caojinlucky@gmail.com' 'sismonica@naver.com'\n",
      " 'fangyuting1110@outlook.com' 'genie_cheng@outlook.com'\n",
      " 'harawoo@gmail.com' 'sleyang@unc.edu' 'freeman123459@outlook.com'\n",
      " 'shiqiuchen22@gmail.com' 'roooooy_10969@163.com'\n",
      " 'chenyujian2023@outlook.com' 'chengkunlyu8866@gmail.com'\n",
      " 'jiaxinmu0@gmail.com' 'qibuswork@gmail.com' 'caoshijia0702@qq.com'\n",
      " 'congguocn@outlook.com' 'cirillechen002@gmail.com'\n",
      " 'cclu1031@yahoo.com.tw' 'dsgmsr@163.com' 'f1730116682@gmail.com'\n",
      " 'okohf304@gmail.com' 'linwang8989@gmail.com' 'huty.nj@gmail.com'\n",
      " 'serinaqin2023fall@gmail.com' 'shanwatche@gmail.com'\n",
      " 'chicharlieminguk@gmail.com' 'giaquang.education@gmail.com'\n",
      " 'poomchantara@gmail.com' 'buddhikaalahakoon94@gmail.com'\n",
      " 'mshammari30@gmail.com' 'kassmtakayo@yahoo.com' 'izava_a92@yahoo.com'\n",
      " 'jonperezbozal@gmail.com' 'miguelgranderaez@gmail.com'\n",
      " 'fabianamikhail@gmail.com' 'mbowaanna@outlook.com'\n",
      " 'smaripala@hawk.iit.edu' 'rbagul@hawk.iit.edu' 'rkesireddy@hawk.iit.edu'\n",
      " 'ksomisetti@hawk.iit.edu' 'fkhatri@hawk.iit.edu' 'nahuja4@hawk.iit.edu'\n",
      " 'rakula5@hawk.iit.edu' 'hpuppala@hawk.iit.edu' 'sgadiraju@hawk.iit.edu'\n",
      " 'jpustake@hawk.iit.edu' 'nganga@hawk.iit.edu' 'sgolla1@hawk.iit.edu'\n",
      " 'rpayeli@hawk.iit.edu' 'sgupta97@hawk.iit.edu'\n",
      " 'sthummalapally@hawk.iit.edu' 'dgangappa@hawk.iit.edu'\n",
      " 'dchittariamaravathi@hawk.iit.edu' 'rbolla@hawk.iit.edu'\n",
      " 'schanamolu2@hawk.iit.edu' 'rdaggula@hawk.iit.edu'\n",
      " 'kkapoor5@hawk.iit.edu' 'hkhilawala@hawk.iit.edu' 'dpadte@hawk.iit.edu'\n",
      " 'drachakonda@hawk.iit.edu' 'mbhagyalakshmi@hawk.iit.edu'\n",
      " 'mhonnenahallilakshmi@hawk.iit.edu' 'htejavath@hawk.iit.edu'\n",
      " 'qabbas@hawk.iit.edu' 'fnaeem1@hawk.iit.edu' 'masif3@hawk.iit.edu'\n",
      " 'mashraf3@hawk.iit.edu' 'eemmanuel@hawk.iit.edu' 'mabbasi5@hawk.iit.edu'\n",
      " 'hsaeed3@hawk.iit.edu' 'ftanveer@hawk.iit.edu' 'rnethi@hawk.iit.edu'\n",
      " 'mchaganti@hawk.iit.edu' 'npattem@hawk.iit.edu' 'rgajavalli@hawk.iit.edu'\n",
      " 'hningappakondakundi@hawk.iit.edu' 'ssundaram@hawk.iit.edu'\n",
      " 'syerramsetti@hawk.iit.edu'\n",
      " 'Not attending Illinois Tech, going to a higher ranked university'\n",
      " 'Afghanistan' 'Azerbaijan' 'Algeria' 'Armenia' 'Bahrain' 'Bolivia'\n",
      " 'Botswana' 'Brazil' 'Cameroon' 'Burundi'\n",
      " 'Congo, the Democratic Republic of the' 'Djibouti' 'Egypt' 'Eritrea'\n",
      " 'Estonia' 'Ethiopia' 'Gambia the' 'Ghana' 'Argentina' 'Belarus' 'Finland'\n",
      " 'Germany' 'Canada' 'Iran' 'Nepal' 'Myanmar' 'Kenya' 'South Korea'\n",
      " 'Ecuador' 'France' 'Yemen' 'Zambia' 'Zimbabwe' 'Sri Lanka' 'Rwanda'\n",
      " 'Saudi Arabia'\n",
      " 'student wants to change the degree from Doctor of Philosophy to Masters'\n",
      " 'not able to provide official transcript' 'Indonesia' 'Turkey'\n",
      " 'Australia' 'Lebanon' 'Kuwait' 'Malawi' 'Brasil' 'Colombia'\n",
      " 'Ethiopia, Italy' 'Ethiopia , Italy' \"Cote d'Ivoire\" 'Angola'\n",
      " 'C�te dIvoire' 'Cyprus' 'Dominica' 'Czech Republic'\n",
      " 'United Arab Emirates' 'Uganda' 'Sri lanka' 'Spain' 'Sierra Leone'\n",
      " 'Somalia' 'Tanzania' 'Finance' 'Gambia' 'Indinesia' 'Italy' 'Israel'\n",
      " 'Jordan' 'Kazakhstan' 'Mongolia' 'Panama' 'Uzbekistan' 'Tajikistan'\n",
      " 'Syria' 'Sweden' 'Norway' 'Swaziland' 'Russian Federation' 'Sudan'\n",
      " 'Latvia' 'Morocco' 'Georgia' 'NIgeria' 'Mozambique' 'Liberia' 'Malaysia'\n",
      " 'Hong Kong' 'Vietnam' 'Honduras' 'Iceland' 'Guyana' 'KEnya' 'Japan'\n",
      " 'Nepaal' 'South Sudan' 'Turkmenistan' 'United Kingdom'\n",
      " 'United States of America' 'Poland' 'Switzerland' 'Singapore' 'Qatar'\n",
      " 'RUssia' 'Russia' 'Philippines' 'Portugal' 'Palestine' 'Netherlands'\n",
      " 'Netherland' 'Myanmmar' 'Thailand' 'Libya' 'Iraq' 'Senegal' 'Paraguay'\n",
      " 'Mexico' 'Namibia' 'Ireland' 'Lithuania' 'Seychelles' 'Republic of Korea'\n",
      " 'Nigeira' 'Niue' 'personal reason' 'Mauritius' 'Mororcco' 'Chile'\n",
      " 'nigeria' 'Lesotho' 'Oman' 'nepal' 'ethiopia' 'saudi arabia' 'hk' 'HK'\n",
      " 'ghana' 'Ukraine' 'gambia' 'kenya' 'England' 'nigera' 'malawi' 'albania'\n",
      " 'jordan' 'grenada' 'canada' 'Taiwan,' 'Peru' 'Guatemala' 'Kyrgyzstan'\n",
      " 'brazil' 'Tunisia' 'chile' 'Cayman Islands' 'japan' 'Italia' 'Nicaragua'\n",
      " 'tazakkistan' 'iraq' 'mexico' 'china' 'spain' 'BULGARIA' 'gabon'\n",
      " 'sri lanka' 'liberia' 'singapore' 'ukraine' 'columbia' 'peru'\n",
      " 'Hong Kong, China' 'Taiwan, China' 'Costa Rica' 'Togo' 'Cambodia'\n",
      " 'hong kong' 'Saudi arabia' 'zambia' 'poland' 'kazakhstan' 'goban'\n",
      " 'argentina' 'taiwan' 'italy' 'Jordon' 'Jamaica' 'jamica' 'rwanda'\n",
      " 'ubekistan' 'somalia' 'south sudan' 'libya' 'malaysia' 'france'\n",
      " 'cameroon' 'Gabon' 'Albania' 'sudan' 'myanmar' 'cote d ivoire' 'lebanon'\n",
      " 'uzbekistan' 'sierra leone' 'Behrain' 'Benin' 'oman' 'cabo verde'\n",
      " 'Congo Republic' 'Congo republic' 'Eswatini' 'egypt' 'congo republic'\n",
      " 'Congo' 'morocco' 'benin' 'georgia' 'Madagascar' 'armenia' 'no planes'\n",
      " 'senegal' 'onam' 'Onam' 'russia' 'botswana' 'Burkina Faso' 'Cabo Verde'\n",
      " 'ethiopi' 'Not connected' 'australia']\n",
      "Total Unique: 856\n",
      "\n",
      "Column: University\n",
      "['Illinois Institute of Technology']\n",
      "Total Unique: 1\n",
      "\n",
      "Column: Phone_Number\n",
      "['9823241234' '8805617501' '18019011222' ... '636989793' '+234 5467121496'\n",
      " '254708729720']\n",
      "Total Unique: 18391\n",
      "\n"
     ]
    }
   ],
   "source": [
    "# Show unique values for each column\n",
    "for col in df.columns:\n",
    "    unique_vals = df[col].unique()\n",
    "    print(f\"Column: {col}\")\n",
    "    print(unique_vals)\n",
    "    print(f\"Total Unique: {len(unique_vals)}\\n\")\n"
   ]
  },
  {
   "cell_type": "markdown",
   "id": "21c28971",
   "metadata": {},
   "source": [
    "App_ID column\n",
    "\n",
    "1 missing value & strange entries - removed invalid App_ID"
   ]
  },
  {
   "cell_type": "code",
   "execution_count": 179,
   "id": "b8b216fc",
   "metadata": {},
   "outputs": [
    {
     "name": "stdout",
     "output_type": "stream",
     "text": [
      "Unique App_IDs: ['12345' '347397' '358065' '351333' '346435' '355959' '351520' '372165'\n",
      " '369273' '365995' '348627' '350814' '357845' '336070' '345428' '352791'\n",
      " '363532' '367273' '346775' '355929']\n",
      "Total unique App_IDs: 15175\n",
      "Data type of App_ID: object\n"
     ]
    }
   ],
   "source": [
    "# Convert App_ID to numeric, coercing errors to NaN\n",
    "df['App_ID'] = pd.to_numeric(df['App_ID'], errors='coerce')\n",
    "\n",
    "# Remove rows with NaN App_ID (these were invalid/non-numeric)\n",
    "df = df.dropna(subset=['App_ID'])\n",
    "\n",
    "# Convert App_ID back to object (string)\n",
    "df['App_ID'] = df['App_ID'].astype(int).astype(str)\n",
    "\n",
    "# Check unique App_IDs and datatype\n",
    "print(\"Unique App_IDs:\", df['App_ID'].unique()[:20])  # show first 20\n",
    "print(\"Total unique App_IDs:\", df['App_ID'].nunique())\n",
    "print(\"Data type of App_ID:\", df['App_ID'].dtype)\n"
   ]
  },
  {
   "cell_type": "markdown",
   "id": "1f332566",
   "metadata": {},
   "source": [
    "Country Column\n",
    "\n",
    "Typos and inconsistent casing fixed\n",
    "\n",
    "Emails and descriptive text replaced with 'Unknown'"
   ]
  },
  {
   "cell_type": "code",
   "execution_count": 180,
   "id": "571bb6a9",
   "metadata": {},
   "outputs": [
    {
     "name": "stdout",
     "output_type": "stream",
     "text": [
      "['India' 'Nigeria' 'Unknown' 'na' 'naq' '-' 'Taiwan' 'Pakistan'\n",
      " 'Bangladesh' 'China' 'South Africa'\n",
      " 'he got admitted into another university'\n",
      " 'Not attending Illinois Tech, going to a higher ranked university'\n",
      " 'Afghanistan' 'Azerbaijan' 'Algeria' 'Armenia' 'Bahrain' 'Bolivia'\n",
      " 'Botswana' 'Brazil' 'Cameroon' 'Burundi'\n",
      " 'Congo, the Democratic Republic of the' 'Djibouti' 'Egypt' 'Eritrea'\n",
      " 'Estonia' 'Ethiopia' 'Gambia the' 'Ghana' 'Argentina' 'Belarus' 'Finland'\n",
      " 'Germany' 'Canada' 'Iran' 'Nepal' 'Myanmar' 'Kenya' 'South Korea'\n",
      " 'Ecuador' 'France' 'Yemen' 'Zambia' 'Zimbabwe' 'Sri Lanka' 'Rwanda'\n",
      " 'Saudi Arabia'\n",
      " 'student wants to change the degree from Doctor of Philosophy to Masters'\n",
      " 'not able to provide official transcript' 'Indonesia' 'Turkey'\n",
      " 'Australia' 'Lebanon' 'Kuwait' 'Malawi' 'Brasil' 'Colombia'\n",
      " 'Ethiopia, Italy' 'Ethiopia , Italy' \"Cote d'Ivoire\" 'Angola'\n",
      " 'C�te dIvoire' 'Cyprus' 'Dominica' 'Czech Republic'\n",
      " 'United Arab Emirates' 'Uganda' 'Sri lanka' 'Spain' 'Sierra Leone'\n",
      " 'Somalia' 'Tanzania' 'Finance' 'Gambia' 'Indinesia' 'Italy' 'Israel'\n",
      " 'Jordan' 'Kazakhstan' 'Mongolia' 'Panama' 'Uzbekistan' 'Tajikistan'\n",
      " 'Syria' 'Sweden' 'Norway' 'Swaziland' 'Russian Federation' 'Sudan'\n",
      " 'Latvia' 'Morocco' 'Georgia' 'NIgeria' 'Mozambique' 'Liberia' 'Malaysia'\n",
      " 'Hong Kong' 'Vietnam' 'Honduras' 'Iceland' 'Guyana' 'KEnya' 'Japan'\n",
      " 'Nepaal' 'South Sudan' 'Turkmenistan' 'United Kingdom'\n",
      " 'United States of America' 'Poland' 'Switzerland' 'Singapore' 'Qatar'\n",
      " 'RUssia' 'Russia' 'Philippines' 'Portugal' 'Palestine' 'Netherlands'\n",
      " 'Netherland' 'Myanmmar' 'Thailand' 'Libya' 'Iraq' 'Senegal' 'Paraguay'\n",
      " 'Mexico' 'Namibia' 'Ireland' 'Lithuania' 'Seychelles' 'Republic of Korea'\n",
      " 'Nigeira' 'Niue' 'personal reason' 'Mauritius' 'Mororcco' 'Chile'\n",
      " 'nigeria' 'Lesotho' 'Oman' 'nepal' 'ethiopia' 'hk' 'HK' 'ghana' 'Ukraine'\n",
      " 'gambia' 'kenya' 'saudi arabia' 'nigera' 'malawi' 'albania' 'jordan'\n",
      " 'grenada' 'canada' 'brazil' 'china' 'chile' 'spain' 'BULGARIA' 'gabon'\n",
      " 'sri lanka' 'liberia' 'singapore' 'ukraine' 'columbia' 'mexico' 'Tunisia'\n",
      " 'kazakhstan' 'goban' 'Jordon' 'Jamaica' 'jamica' 'Peru' 'rwanda'\n",
      " 'ubekistan' 'zambia' 'somalia' 'south sudan' 'libya' 'malaysia' 'france'\n",
      " 'cameroon' 'Gabon' 'Albania' 'sudan' 'myanmar' 'cote d ivoire' 'lebanon'\n",
      " 'uzbekistan' 'sierra leone' 'egypt' 'congo republic' 'Congo' 'Togo'\n",
      " 'peru' 'benin' 'georgia' 'armenia' 'Saudi arabia']\n"
     ]
    }
   ],
   "source": [
    "# Replace only email-like entries with 'Unknown'\n",
    "df['Country'] = df['Country'].apply(lambda x: 'Unknown' if isinstance(x, str) and '@' in x else x)\n",
    "\n",
    "# Check unique values to verify\n",
    "print(df['Country'].unique())\n"
   ]
  },
  {
   "cell_type": "code",
   "execution_count": 181,
   "id": "8961c066",
   "metadata": {},
   "outputs": [
    {
     "name": "stdout",
     "output_type": "stream",
     "text": [
      "['India' 'Nigeria' 'Unknown' 'Taiwan' 'Pakistan' 'Bangladesh' 'China'\n",
      " 'South Africa' 'Afghanistan' 'Azerbaijan' 'Algeria' 'Armenia' 'Bahrain'\n",
      " 'Bolivia' 'Botswana' 'Brazil' 'Cameroon' 'Burundi' 'Congo' 'Djibouti'\n",
      " 'Egypt' 'Eritrea' 'Estonia' 'Ethiopia' 'Gambia' 'Ghana' 'Argentina'\n",
      " 'Belarus' 'Finland' 'Germany' 'Canada' 'Iran' 'Nepal' 'Myanmar' 'Kenya'\n",
      " 'South Korea' 'Ecuador' 'France' 'Yemen' 'Zambia' 'Zimbabwe' 'Sri Lanka'\n",
      " 'Rwanda' 'Saudi Arabia' 'Indonesia' 'Turkey' 'Australia' 'Lebanon'\n",
      " 'Kuwait' 'Malawi' 'Brasil' 'Colombia' 'Ethiopia, Italy'\n",
      " 'Ethiopia , Italy' 'Cote Divoire' 'Angola' 'Cyprus' 'Dominica'\n",
      " 'Czech Republic' 'United Arab Emirates' 'Uganda' 'Spain' 'Sierra Leone'\n",
      " 'Somalia' 'Tanzania' 'Italy' 'Israel' 'Jordan' 'Kazakhstan' 'Mongolia'\n",
      " 'Panama' 'Uzbekistan' 'Tajikistan' 'Syria' 'Sweden' 'Norway' 'Eswatini'\n",
      " 'Russia' 'Sudan' 'Latvia' 'Morocco' 'Georgia' 'Mozambique' 'Liberia'\n",
      " 'Malaysia' 'Hong Kong' 'Vietnam' 'Honduras' 'Iceland' 'Guyana' 'Japan'\n",
      " 'South Sudan' 'Turkmenistan' 'United Kingdom' 'United States of America'\n",
      " 'Poland' 'Switzerland' 'Singapore' 'Qatar' 'Philippines' 'Portugal'\n",
      " 'Palestine' 'Netherlands' 'Thailand' 'Libya' 'Iraq' 'Senegal' 'Paraguay'\n",
      " 'Mexico' 'Namibia' 'Ireland' 'Lithuania' 'Seychelles' 'Nigeira' 'Niue'\n",
      " 'Mauritius' 'Chile' 'Lesotho' 'Oman' 'Ukraine' 'albania' 'jordan'\n",
      " 'grenada' 'brazil' 'BULGARIA' 'gabon' 'ukraine' 'columbia' 'Tunisia'\n",
      " 'Gabon' 'Jamaica' 'Peru' 'rwanda' 'Albania' 'cote d ivoire' 'lebanon'\n",
      " 'uzbekistan' 'Togo' 'peru' 'benin' 'georgia' 'armenia' 'Saudi arabia']\n"
     ]
    }
   ],
   "source": [
    "# Mapping of original -> corrected country\n",
    "country_corrections = {\n",
    "    # Unknown / invalid entries\n",
    "    'Unknown': 'Unknown', 'na': 'Unknown', 'naq': 'Unknown', '-': 'Unknown',\n",
    "    'personal reason': 'Unknown', 'no planes': 'Unknown', 'Not connected': 'Unknown',\n",
    "    'Finance': 'Unknown', 'he got admitted into another university': 'Unknown',\n",
    "    'Not attending Illinois Tech, going to a higher ranked university': 'Unknown',\n",
    "    'student wants to change the degree from Doctor of Philosophy to Masters': 'Unknown',\n",
    "    'not able to provide official transcript': 'Unknown', 'Onam': 'Unknown', 'onam': 'Unknown',\n",
    "\n",
    "    # Standardized countries\n",
    "    'India': 'India', 'india': 'India',\n",
    "    'Nigeria': 'Nigeria', 'nigeira': 'Nigeria', 'NIgeria': 'Nigeria', 'nigera': 'Nigeria', 'nigeria': 'Nigeria',\n",
    "    'Pakistan': 'Pakistan', 'Bangladesh': 'Bangladesh', 'China': 'China', 'china': 'China',\n",
    "    'South Africa': 'South Africa', 'Taiwan': 'Taiwan', 'Taiwan,': 'Taiwan', 'Taiwan, China': 'Taiwan',\n",
    "    'Afghanistan': 'Afghanistan', 'Azerbaijan': 'Azerbaijan', 'Algeria': 'Algeria', 'Armenia': 'Armenia',\n",
    "    'Bahrain': 'Bahrain', 'Behrain': 'Bahrain', 'Bolivia': 'Bolivia', 'Botswana': 'Botswana', 'botswana': 'Botswana',\n",
    "    'Brazil': 'Brazil', 'brasil': 'Brazil', 'Burundi': 'Burundi', 'Cameroon': 'Cameroon', 'cameroon': 'Cameroon',\n",
    "    'Congo, the Democratic Republic of the': 'Congo', 'Congo': 'Congo', 'Congo Republic': 'Congo', \n",
    "    'Congo republic': 'Congo', 'congo republic': 'Congo',\n",
    "    'Djibouti': 'Djibouti', 'Egypt': 'Egypt', 'egypt': 'Egypt', 'Eritrea': 'Eritrea', 'Estonia': 'Estonia',\n",
    "    'Ethiopia': 'Ethiopia', 'ethiopia': 'Ethiopia', 'ethiopi': 'Ethiopia',\n",
    "    'Gambia the': 'Gambia', 'Gambia': 'Gambia', 'gambia': 'Gambia', 'Ghana': 'Ghana', 'ghana': 'Ghana',\n",
    "    'Argentina': 'Argentina', 'argentina': 'Argentina', 'Belarus': 'Belarus', 'Finland': 'Finland',\n",
    "    'Germany': 'Germany', 'Canada': 'Canada', 'canada': 'Canada', 'Iran': 'Iran', 'Nepal': 'Nepal',\n",
    "    'nepal': 'Nepal', 'Nepaal': 'Nepal', 'Myanmar': 'Myanmar', 'Myanmmar': 'Myanmar', 'myanmar': 'Myanmar',\n",
    "    'Kenya': 'Kenya', 'KEnya': 'Kenya', 'kenya': 'Kenya', 'South Korea': 'South Korea', 'Republic of Korea': 'South Korea',\n",
    "    'Ecuador': 'Ecuador', 'France': 'France', 'france': 'France', 'Yemen': 'Yemen', 'Zambia': 'Zambia', 'zambia': 'Zambia',\n",
    "    'Zimbabwe': 'Zimbabwe', 'Sri Lanka': 'Sri Lanka', 'Sri lanka': 'Sri Lanka', 'Srilanka': 'Sri Lanka', 'sri lanka': 'Sri Lanka',\n",
    "    'Rwanda': 'Rwanda', 'Saudi Arabia': 'Saudi Arabia', 'saudi arabia': 'Saudi Arabia', 'Indonesia': 'Indonesia',\n",
    "    'Indinesia': 'Indonesia', 'Turkey': 'Turkey', 'Australia': 'Australia', 'australia': 'Australia',\n",
    "    'Lebanon': 'Lebanon', 'Kuwait': 'Kuwait', 'Malawi': 'Malawi', 'malawi': 'Malawi', 'Cote d\\'Ivoire': 'Cote Divoire',\n",
    "    'Cote d ivoire': 'Cote Divoire', 'C�te dIvoire': 'Cote Divoire', 'Cote D Ivoire': 'Cote Divoire',\n",
    "    'Angola': 'Angola', 'Cyprus': 'Cyprus', 'Dominica': 'Dominica', 'Czech Republic': 'Czech Republic',\n",
    "    'United Arab Emirates': 'United Arab Emirates', 'Uganda': 'Uganda', 'Spain': 'Spain', 'spain': 'Spain',\n",
    "    'Sierra Leone': 'Sierra Leone', 'sierra leone': 'Sierra Leone', 'Somalia': 'Somalia', 'somalia': 'Somalia',\n",
    "    'Tanzania': 'Tanzania', 'Italy': 'Italy', 'Italia': 'Italy', 'italy': 'Italy', 'Israel': 'Israel',\n",
    "    'Jordan': 'Jordan', 'Jordon': 'Jordan', 'Kazakhstan': 'Kazakhstan', 'kazakhstan': 'Kazakhstan',\n",
    "    'Mongolia': 'Mongolia', 'Panama': 'Panama', 'Uzbekistan': 'Uzbekistan', 'ubekistan': 'Uzbekistan',\n",
    "    'Tajikistan': 'Tajikistan', 'Tazakkistan': 'Tajikistan', 'Syria': 'Syria', 'Sweden': 'Sweden', 'Norway': 'Norway',\n",
    "    'Swaziland': 'Eswatini', 'Russian Federation': 'Russia', 'Russia': 'Russia', 'RUssia': 'Russia', 'russia': 'Russia',\n",
    "    'Sudan': 'Sudan', 'sudan': 'Sudan', 'Latvia': 'Latvia', 'Morocco': 'Morocco', 'Mororcco': 'Morocco', 'morocco': 'Morocco',\n",
    "    'Georgia': 'Georgia', 'Mozambique': 'Mozambique', 'Liberia': 'Liberia', 'liberia': 'Liberia', 'Malaysia': 'Malaysia',\n",
    "    'malaysia': 'Malaysia', 'Hong Kong': 'Hong Kong', 'hong kong': 'Hong Kong', 'HK': 'Hong Kong', 'hk': 'Hong Kong',\n",
    "    'Hong Kong, China': 'Hong Kong', 'Vietnam': 'Vietnam', 'Honduras': 'Honduras', 'Iceland': 'Iceland', 'Guyana': 'Guyana',\n",
    "    'South Sudan': 'South Sudan', 'south sudan': 'South Sudan', 'United Kingdom': 'United Kingdom', 'England': 'United Kingdom',\n",
    "    'uk': 'United Kingdom', 'United States of America': 'United States of America', 'Usa': 'United States of America',\n",
    "    'Poland': 'Poland', 'poland': 'Poland', 'Switzerland': 'Switzerland', 'Singapore': 'Singapore', 'singapore': 'Singapore',\n",
    "    'Philippines': 'Philippines', 'Portugal': 'Portugal', 'Palestine': 'Palestine', 'Netherlands': 'Netherlands', 'Netherland': 'Netherlands',\n",
    "    'Thailand': 'Thailand', 'Libya': 'Libya', 'libya': 'Libya', 'Iraq': 'Iraq', 'iraq': 'Iraq', 'Senegal': 'Senegal', 'senegal': 'Senegal',\n",
    "    'Paraguay': 'Paraguay', 'Mexico': 'Mexico', 'mexico': 'Mexico', 'Namibia': 'Namibia', 'Ireland': 'Ireland', 'Lithuania': 'Lithuania',\n",
    "    'Seychelles': 'Seychelles', 'Cayman Islands': 'Cayman Islands', 'Nicaragua': 'Nicaragua', 'Chile': 'Chile', 'chile': 'Chile',\n",
    "    'Cambodia': 'Cambodia', 'Albania': 'Albania', 'Jamaica': 'Jamaica', 'jamica': 'Jamaica', 'Gabon': 'Gabon', 'goban': 'Gabon',\n",
    "    'Madagascar': 'Madagascar', 'Burkina Faso': 'Burkina Faso', 'Cabo Verde': 'Cabo Verde', 'cabo verde': 'Cabo Verde'\n",
    "}\n",
    "\n",
    "# Apply corrections\n",
    "df['Country'] = df['Country'].replace(country_corrections)\n",
    "\n",
    "# Optional: check\n",
    "print(df['Country'].unique())"
   ]
  },
  {
   "cell_type": "markdown",
   "id": "e5dcace1",
   "metadata": {},
   "source": [
    "Typos / lowercase – should be capitalized properly:"
   ]
  },
  {
   "cell_type": "code",
   "execution_count": 182,
   "id": "a3ad740a",
   "metadata": {},
   "outputs": [
    {
     "name": "stdout",
     "output_type": "stream",
     "text": [
      "['India' 'Nigeria' 'Unknown' 'Taiwan' 'Pakistan' 'Bangladesh' 'China'\n",
      " 'South Africa' 'Afghanistan' 'Azerbaijan' 'Algeria' 'Armenia' 'Bahrain'\n",
      " 'Bolivia' 'Botswana' 'Brazil' 'Cameroon' 'Burundi' 'Congo' 'Djibouti'\n",
      " 'Egypt' 'Eritrea' 'Estonia' 'Ethiopia' 'Gambia' 'Ghana' 'Argentina'\n",
      " 'Belarus' 'Finland' 'Germany' 'Canada' 'Iran' 'Nepal' 'Myanmar' 'Kenya'\n",
      " 'South Korea' 'Ecuador' 'France' 'Yemen' 'Zambia' 'Zimbabwe' 'Sri Lanka'\n",
      " 'Rwanda' 'Saudi Arabia' 'Indonesia' 'Turkey' 'Australia' 'Lebanon'\n",
      " 'Kuwait' 'Malawi' 'Colombia' 'Cote Divoire' 'Angola' 'Cyprus' 'Dominica'\n",
      " 'Czech Republic' 'United Arab Emirates' 'Uganda' 'Spain' 'Sierra Leone'\n",
      " 'Somalia' 'Tanzania' 'Italy' 'Israel' 'Jordan' 'Kazakhstan' 'Mongolia'\n",
      " 'Panama' 'Uzbekistan' 'Tajikistan' 'Syria' 'Sweden' 'Norway' 'Eswatini'\n",
      " 'Russia' 'Sudan' 'Latvia' 'Morocco' 'Georgia' 'Mozambique' 'Liberia'\n",
      " 'Malaysia' 'Hong Kong' 'Vietnam' 'Honduras' 'Iceland' 'Guyana' 'Japan'\n",
      " 'South Sudan' 'Turkmenistan' 'United Kingdom' 'United States Of America'\n",
      " 'Poland' 'Switzerland' 'Singapore' 'Qatar' 'Philippines' 'Portugal'\n",
      " 'Palestine' 'Netherlands' 'Thailand' 'Libya' 'Iraq' 'Senegal' 'Paraguay'\n",
      " 'Mexico' 'Namibia' 'Ireland' 'Lithuania' 'Seychelles' 'Niue' 'Mauritius'\n",
      " 'Chile' 'Lesotho' 'Oman' 'Ukraine' 'Albania' 'Grenada' 'Bulgaria' 'Gabon'\n",
      " 'Tunisia' 'Jamaica' 'Peru' 'Togo' 'Benin']\n"
     ]
    }
   ],
   "source": [
    "# Dictionary to correct typos and lowercase\n",
    "country_corrections = {\n",
    "    'Nigeira': 'Nigeria',\n",
    "    'albania': 'Albania',\n",
    "    'brazil': 'Brazil',\n",
    "    'japan': 'Japan',\n",
    "    'tazakkistan': 'Tajikistan',\n",
    "    'ukraine': 'Ukraine',\n",
    "    'columbia': 'Colombia',\n",
    "    'peru': 'Peru',\n",
    "    'saudi arabia': 'Saudi Arabia',\n",
    "    'taiwan': 'Taiwan',\n",
    "    'Jamaica': 'Jamaica',\n",
    "    'rwanda': 'Rwanda',\n",
    "    'cote d ivoire': 'Cote Divoire',\n",
    "    'uzbekistan': 'Uzbekistan',\n",
    "    'Benin': 'Benin',\n",
    "    'oman': 'Oman',\n",
    "    'armenia': 'Armenia',\n",
    "    'Gabon': 'Gabon'\n",
    "}\n",
    "\n",
    "# Apply corrections\n",
    "df['Country'] = df['Country'].replace(country_corrections)\n",
    "\n",
    "# Standardize casing for all entries\n",
    "df['Country'] = df['Country'].str.title()\n",
    "\n",
    "# Correct 'Brasil' to 'Brazil'\n",
    "df['Country'] = df['Country'].replace({'Brasil': 'Brazil'})\n",
    "\n",
    "# Replace multi-country or invalid entries containing ',' with 'Unknown'\n",
    "df['Country'] = df['Country'].apply(lambda x: 'Unknown' if isinstance(x, str) and ',' in x else x)\n",
    "\n",
    "# Check unique values after correction\n",
    "print(df['Country'].unique())\n"
   ]
  },
  {
   "cell_type": "markdown",
   "id": "a87ab40a",
   "metadata": {},
   "source": [
    "University\n",
    "\n",
    "Only 'Illinois Institute of Technology' → already standardized"
   ]
  },
  {
   "cell_type": "markdown",
   "id": "8cbb253b",
   "metadata": {},
   "source": [
    "Phone Number Column\n",
    "\n",
    "Numbers like '636989793' will remain if they have ≥7 digits\n",
    "\n",
    "Numbers like '+234 5467121496' become '+2345467121496'\n",
    "\n",
    "Invalid or missing numbers become 'Unknown'\n"
   ]
  },
  {
   "cell_type": "code",
   "execution_count": 183,
   "id": "715b5de0",
   "metadata": {},
   "outputs": [
    {
     "name": "stdout",
     "output_type": "stream",
     "text": [
      "['9823241234' '8805617501' '18019011222' ... '917989841011'\n",
      " '+2347030851281' '+2345467121496']\n"
     ]
    }
   ],
   "source": [
    "def clean_phone_keep_all(number):\n",
    "    if pd.isna(number):\n",
    "        return 'Unknown'  # keep NaN as Unknown, optional\n",
    "    number = str(number).strip()\n",
    "    \n",
    "    # Keep leading '+' if present\n",
    "    if number.startswith('+'):\n",
    "        number = '+' + re.sub(r'\\D', '', number[1:])\n",
    "    else:\n",
    "        number = re.sub(r'\\D', '', number)\n",
    "    \n",
    "    return number\n",
    "\n",
    "# Apply cleaning\n",
    "df['Phone_Number'] = df['Phone_Number'].apply(clean_phone_keep_all)\n",
    "\n",
    "# Check unique values\n",
    "print(df['Phone_Number'].unique())\n"
   ]
  },
  {
   "cell_type": "code",
   "execution_count": 184,
   "id": "aae0eaf5",
   "metadata": {},
   "outputs": [
    {
     "name": "stdout",
     "output_type": "stream",
     "text": [
      "       App_ID                                       Phone_Number\n",
      "12249  441728                                       989128914705\n",
      "13554  441728                                       989128914705\n",
      "14615  441728                                       989128914705\n",
      "15998  398641                                                  +\n",
      "20626  441728  1424182024120413241220242284224420245323191289...\n"
     ]
    }
   ],
   "source": [
    "# Filter for specific App_IDs\n",
    "specific_ids = ['398641', '441728']  # make sure these are strings\n",
    "print(df[df['App_ID'].isin(specific_ids)][['App_ID', 'Phone_Number']])\n"
   ]
  },
  {
   "cell_type": "code",
   "execution_count": 185,
   "id": "f225c85a",
   "metadata": {},
   "outputs": [
    {
     "name": "stdout",
     "output_type": "stream",
     "text": [
      "       App_ID Phone_Number\n",
      "15998  398641      Unknown\n",
      "20626  441728      Unknown\n"
     ]
    }
   ],
   "source": [
    "# Replace phone numbers with 'Unknown' for the two specific rows\n",
    "df.loc[df.index.isin([15998, 20626]), 'Phone_Number'] = 'Unknown'\n",
    "\n",
    "# Verify the change\n",
    "print(df.loc[[15998, 20626], ['App_ID', 'Phone_Number']])\n"
   ]
  },
  {
   "cell_type": "markdown",
   "id": "9f3758a0",
   "metadata": {},
   "source": [
    "Verifying each column's consistent values and missing values per column"
   ]
  },
  {
   "cell_type": "code",
   "execution_count": 186,
   "id": "d84b9351",
   "metadata": {},
   "outputs": [
    {
     "name": "stdout",
     "output_type": "stream",
     "text": [
      "Column: App_ID\n",
      "['12345' '347397' '358065' ... '98077675' '9876789' '425358']\n",
      "Total Unique: 15175\n",
      "\n",
      "Column: Country\n",
      "['India' 'Nigeria' 'Unknown' 'Taiwan' 'Pakistan' 'Bangladesh' 'China'\n",
      " 'South Africa' 'Afghanistan' 'Azerbaijan' 'Algeria' 'Armenia' 'Bahrain'\n",
      " 'Bolivia' 'Botswana' 'Brazil' 'Cameroon' 'Burundi' 'Congo' 'Djibouti'\n",
      " 'Egypt' 'Eritrea' 'Estonia' 'Ethiopia' 'Gambia' 'Ghana' 'Argentina'\n",
      " 'Belarus' 'Finland' 'Germany' 'Canada' 'Iran' 'Nepal' 'Myanmar' 'Kenya'\n",
      " 'South Korea' 'Ecuador' 'France' 'Yemen' 'Zambia' 'Zimbabwe' 'Sri Lanka'\n",
      " 'Rwanda' 'Saudi Arabia' 'Indonesia' 'Turkey' 'Australia' 'Lebanon'\n",
      " 'Kuwait' 'Malawi' 'Colombia' 'Cote Divoire' 'Angola' 'Cyprus' 'Dominica'\n",
      " 'Czech Republic' 'United Arab Emirates' 'Uganda' 'Spain' 'Sierra Leone'\n",
      " 'Somalia' 'Tanzania' 'Italy' 'Israel' 'Jordan' 'Kazakhstan' 'Mongolia'\n",
      " 'Panama' 'Uzbekistan' 'Tajikistan' 'Syria' 'Sweden' 'Norway' 'Eswatini'\n",
      " 'Russia' 'Sudan' 'Latvia' 'Morocco' 'Georgia' 'Mozambique' 'Liberia'\n",
      " 'Malaysia' 'Hong Kong' 'Vietnam' 'Honduras' 'Iceland' 'Guyana' 'Japan'\n",
      " 'South Sudan' 'Turkmenistan' 'United Kingdom' 'United States Of America'\n",
      " 'Poland' 'Switzerland' 'Singapore' 'Qatar' 'Philippines' 'Portugal'\n",
      " 'Palestine' 'Netherlands' 'Thailand' 'Libya' 'Iraq' 'Senegal' 'Paraguay'\n",
      " 'Mexico' 'Namibia' 'Ireland' 'Lithuania' 'Seychelles' 'Niue' 'Mauritius'\n",
      " 'Chile' 'Lesotho' 'Oman' 'Ukraine' 'Albania' 'Grenada' 'Bulgaria' 'Gabon'\n",
      " 'Tunisia' 'Jamaica' 'Peru' 'Togo' 'Benin']\n",
      "Total Unique: 125\n",
      "\n",
      "Column: University\n",
      "['Illinois Institute of Technology']\n",
      "Total Unique: 1\n",
      "\n",
      "Column: Phone_Number\n",
      "['9823241234' '8805617501' '18019011222' ... '917989841011'\n",
      " '+2347030851281' '+2345467121496']\n",
      "Total Unique: 15010\n",
      "\n"
     ]
    }
   ],
   "source": [
    "# Show unique values for each column\n",
    "for col in df.columns:\n",
    "    unique_vals = df[col].unique()\n",
    "    print(f\"Column: {col}\")\n",
    "    print(unique_vals)\n",
    "    print(f\"Total Unique: {len(unique_vals)}\\n\")\n"
   ]
  },
  {
   "cell_type": "markdown",
   "id": "1d1398e6",
   "metadata": {},
   "source": [
    "Duplicate Rows Detecting"
   ]
  },
  {
   "cell_type": "code",
   "execution_count": 187,
   "id": "04d3b2a3",
   "metadata": {},
   "outputs": [
    {
     "name": "stdout",
     "output_type": "stream",
     "text": [
      "Number of duplicate rows: 16387\n"
     ]
    }
   ],
   "source": [
    "# Check duplicate rows\n",
    "duplicate_rows = df[df.duplicated()]\n",
    "print(\"Number of duplicate rows:\", duplicate_rows.shape[0])"
   ]
  },
  {
   "cell_type": "markdown",
   "id": "0dc90218",
   "metadata": {},
   "source": [
    "Removing Duplicate Rows"
   ]
  },
  {
   "cell_type": "code",
   "execution_count": 188,
   "id": "d6234364",
   "metadata": {},
   "outputs": [
    {
     "name": "stdout",
     "output_type": "stream",
     "text": [
      "Dataset shape after removing duplicates: (16836, 4)\n"
     ]
    }
   ],
   "source": [
    "# Keep the first occurrence, drop the rest\n",
    "df = df.drop_duplicates(keep='first')\n",
    "\n",
    "# Check the shape after removal\n",
    "print(\"Dataset shape after removing duplicates:\", df.shape)\n"
   ]
  },
  {
   "cell_type": "markdown",
   "id": "6d43d9db",
   "metadata": {},
   "source": [
    "Verifying Dataset Overall "
   ]
  },
  {
   "cell_type": "code",
   "execution_count": 189,
   "id": "ce4d9f0e",
   "metadata": {},
   "outputs": [
    {
     "name": "stdout",
     "output_type": "stream",
     "text": [
      "=== Dataset Shape ===\n",
      "(16836, 4) \n",
      "\n",
      "=== Missing Values ===\n",
      "App_ID          0\n",
      "Country         0\n",
      "University      0\n",
      "Phone_Number    0\n",
      "dtype: int64 \n",
      "\n",
      "=== Duplicate Rows ===\n",
      "Number of duplicate rows: 0\n",
      "\n",
      "=== Column Datatypes ===\n",
      "App_ID          object\n",
      "Country         object\n",
      "University      object\n",
      "Phone_Number    object\n",
      "dtype: object \n",
      "\n",
      "=== Sample of Dataset ===\n",
      "   App_ID  Country                        University  Phone_Number\n",
      "0   12345    India  Illinois Institute of Technology    9823241234\n",
      "1   12345    India  Illinois Institute of Technology    8805617501\n",
      "2   12345    India  Illinois Institute of Technology   18019011222\n",
      "3  347397  Nigeria  Illinois Institute of Technology    7738599513\n",
      "4  347397  Nigeria  Illinois Institute of Technology  919182706838\n"
     ]
    }
   ],
   "source": [
    "# Summary verification function\n",
    "def verify_dataset(df):\n",
    "    print(\"=== Dataset Shape ===\")\n",
    "    print(df.shape, \"\\n\")\n",
    "    \n",
    "    print(\"=== Missing Values ===\")\n",
    "    print(df.isna().sum(), \"\\n\")\n",
    "    \n",
    "    print(\"=== Duplicate Rows ===\")\n",
    "    dup_count = df.duplicated().sum()\n",
    "    print(f\"Number of duplicate rows: {dup_count}\\n\")\n",
    "    \n",
    "    print(\"=== Column Datatypes ===\")\n",
    "    print(df.dtypes, \"\\n\")\n",
    "    \n",
    "    print(\"=== Sample of Dataset ===\")\n",
    "    print(df.head())\n",
    "\n",
    "# Run verification\n",
    "verify_dataset(df)\n"
   ]
  },
  {
   "cell_type": "markdown",
   "id": "da93cf91",
   "metadata": {},
   "source": [
    "Final verification:\n",
    "\n",
    "Checked missing values → handled\n",
    "\n",
    "Checked duplicates → removed\n",
    "\n",
    "Verified datatypes → correct\n",
    "\n",
    "Ensured Consistency + Standardization\n",
    "\n",
    "Final dataset structure: 16836 unique rows, 4 columns."
   ]
  },
  {
   "cell_type": "markdown",
   "id": "732b46e9",
   "metadata": {},
   "source": [
    "Exporting Cleaned Dataset"
   ]
  },
  {
   "cell_type": "code",
   "execution_count": 190,
   "id": "462ee114",
   "metadata": {},
   "outputs": [
    {
     "name": "stdout",
     "output_type": "stream",
     "text": [
      "Dataset successfully exported as 'Cleaned_ApplicantData.csv'\n"
     ]
    }
   ],
   "source": [
    "df.to_csv(\"Cleaned_ApplicantData.csv\", index=False)\n",
    "\n",
    "print(\"Dataset successfully exported as 'Cleaned_ApplicantData.csv'\")"
   ]
  },
  {
   "cell_type": "markdown",
   "id": "a7355ad2",
   "metadata": {},
   "source": [
    "# Finally \"ApplicantData.csv\" Dataset is Cleaned !"
   ]
  }
 ],
 "metadata": {
  "kernelspec": {
   "display_name": "Python 3",
   "language": "python",
   "name": "python3"
  },
  "language_info": {
   "codemirror_mode": {
    "name": "ipython",
    "version": 3
   },
   "file_extension": ".py",
   "mimetype": "text/x-python",
   "name": "python",
   "nbconvert_exporter": "python",
   "pygments_lexer": "ipython3",
   "version": "3.12.8"
  }
 },
 "nbformat": 4,
 "nbformat_minor": 5
}
