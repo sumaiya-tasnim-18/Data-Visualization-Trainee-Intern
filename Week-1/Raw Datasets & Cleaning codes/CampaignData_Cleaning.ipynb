{
 "cells": [
  {
   "cell_type": "markdown",
   "id": "6c135c19",
   "metadata": {},
   "source": [
    "# Dataset: CampaignData.csv\n",
    "# Data Cleaning Process"
   ]
  },
  {
   "cell_type": "markdown",
   "id": "c92c35cf",
   "metadata": {},
   "source": [
    "Importing necessary libraries"
   ]
  },
  {
   "cell_type": "code",
   "execution_count": 20,
   "id": "eefcd299",
   "metadata": {},
   "outputs": [],
   "source": [
    "import numpy as np\n",
    "import pandas as pd"
   ]
  },
  {
   "cell_type": "markdown",
   "id": "9f2daaf7",
   "metadata": {},
   "source": [
    "Loading Dataset "
   ]
  },
  {
   "cell_type": "code",
   "execution_count": 21,
   "id": "4d2decb1",
   "metadata": {},
   "outputs": [],
   "source": [
    "df = pd.read_csv(\"CampaignData.csv\")"
   ]
  },
  {
   "cell_type": "markdown",
   "id": "7e4d9197",
   "metadata": {},
   "source": [
    "Total Rows & Columns"
   ]
  },
  {
   "cell_type": "code",
   "execution_count": 22,
   "id": "6ce6a98a",
   "metadata": {},
   "outputs": [
    {
     "name": "stdout",
     "output_type": "stream",
     "text": [
      "Total Rows: 23\n",
      "Total Columns: 7\n"
     ]
    }
   ],
   "source": [
    "print(f\"Total Rows: {df.shape[0]}\")\n",
    "print(f\"Total Columns: {df.shape[1]}\")"
   ]
  },
  {
   "cell_type": "markdown",
   "id": "0d1d53f3",
   "metadata": {},
   "source": [
    "Missing Values Checking"
   ]
  },
  {
   "cell_type": "code",
   "execution_count": 23,
   "id": "aec55f06",
   "metadata": {},
   "outputs": [
    {
     "name": "stdout",
     "output_type": "stream",
     "text": [
      "ID            0\n",
      "Name          0\n",
      "Category      0\n",
      "Intake        0\n",
      "University    0\n",
      "Status        0\n",
      "Start_Date    0\n",
      "dtype: int64\n"
     ]
    }
   ],
   "source": [
    "print(df.isnull().sum())"
   ]
  },
  {
   "cell_type": "markdown",
   "id": "8714ec23",
   "metadata": {},
   "source": [
    "Duplicate Rows Detecting"
   ]
  },
  {
   "cell_type": "code",
   "execution_count": 24,
   "id": "5997637a",
   "metadata": {},
   "outputs": [
    {
     "name": "stdout",
     "output_type": "stream",
     "text": [
      "Duplicate Rows :  0\n"
     ]
    }
   ],
   "source": [
    "duplicates = df.duplicated().sum()\n",
    "print(\"Duplicate Rows : \",duplicates)"
   ]
  },
  {
   "cell_type": "markdown",
   "id": "70576904",
   "metadata": {},
   "source": [
    "Checking Datatype"
   ]
  },
  {
   "cell_type": "code",
   "execution_count": 25,
   "id": "161d2198",
   "metadata": {},
   "outputs": [
    {
     "name": "stdout",
     "output_type": "stream",
     "text": [
      "ID            object\n",
      "Name          object\n",
      "Category      object\n",
      "Intake        object\n",
      "University    object\n",
      "Status        object\n",
      "Start_Date    object\n",
      "dtype: object\n"
     ]
    }
   ],
   "source": [
    "print(df.dtypes)"
   ]
  },
  {
   "cell_type": "markdown",
   "id": "76951118",
   "metadata": {},
   "source": [
    "correcting datatype"
   ]
  },
  {
   "cell_type": "code",
   "execution_count": 26,
   "id": "9186e736",
   "metadata": {},
   "outputs": [
    {
     "name": "stdout",
     "output_type": "stream",
     "text": [
      "datetime64[ns]\n",
      "0   2024-03-20\n",
      "1   2024-09-11\n",
      "2   2024-07-11\n",
      "3   2024-03-06\n",
      "4   2024-03-08\n",
      "Name: Start_Date, dtype: datetime64[ns]\n"
     ]
    }
   ],
   "source": [
    "# Converting Start_Date to datetime with exact format\n",
    "df['Start_Date'] = pd.to_datetime(df['Start_Date'], format='%m/%d/%Y %H:%M', errors='raise')\n",
    "\n",
    "# Check\n",
    "print(df['Start_Date'].dtypes)\n",
    "print(df['Start_Date'].head())"
   ]
  },
  {
   "cell_type": "markdown",
   "id": "b027c8a7",
   "metadata": {},
   "source": [
    "Consistency Checking"
   ]
  },
  {
   "cell_type": "code",
   "execution_count": 27,
   "id": "5994faf7",
   "metadata": {},
   "outputs": [
    {
     "name": "stdout",
     "output_type": "stream",
     "text": [
      "ID (23 unique values):\n",
      "['AANF23' 'AND23' 'BPNANF23' 'BPNND23' 'CTKANF23' 'DANE24' 'DNA24'\n",
      " 'FA24AND' 'FA24DNA' 'FA24DNI' 'FA24IP' 'FA24SIC' 'IANF23' 'IND23'\n",
      " 'OANF23' 'OND23' 'SP25AI2S' 'SP25AND' 'SP25DN1' 'SP25DSP' 'SP25IP'\n",
      " 'SP25NIQ' 'SP25SIC']\n",
      "--------------------------------------------------\n",
      "Name (23 unique values):\n",
      "['GR GS FA24 Campaign- Admit, No Deposit'\n",
      " 'GR GS FA24 Campaign- Deposit No Action'\n",
      " 'GR GS FA24 Campaign- Deposit, No I-20'\n",
      " 'GR GS FA24 Campaign- In Progress'\n",
      " 'GR GS FA24 Campaign- Submit, Incomplete'\n",
      " 'GR GS Call Campaign: India ANF' 'GR GS Call Campaign: India No Deposit'\n",
      " 'GR GS Call Campaign: Other ANF' 'GR GS Call Campaign: Other No Deposit'\n",
      " 'GR GS SP25 Campaign- All I-20s Sent'\n",
      " 'GR GS SP25 Campaign- Admit, No Deposit'\n",
      " 'GR GS SP25 Campaign- Deposit, No I-20'\n",
      " 'GR GS SP25 Campaign- Deferrals to SP25'\n",
      " 'GR GS SP25 Campaign- In Progress' 'GR GS SP25 Campaign- New Inquiry'\n",
      " 'GR GS SP25 Campaign- Submitted, Incomplete'\n",
      " 'GR GS Call Campaign: Africa ANF'\n",
      " 'GR GS Call Campaign: Africa No Deposit'\n",
      " 'GR GS Call Campaign: Bangladesh, Pakistan, Nepal ANF'\n",
      " 'GR GS Call Campaign: Bangladesh, Pakistan, Nepal No Deposit'\n",
      " 'GR GS Call Campaign: China, Taiwan, Korea ANF'\n",
      " 'Deposit and Advised, Not Enrolled' 'Deposit, Not Advised']\n",
      "--------------------------------------------------\n",
      "Category (2 unique values):\n",
      "['Post Admission' 'Pre Admission']\n",
      "--------------------------------------------------\n",
      "Intake (1 unique values):\n",
      "['AY2024']\n",
      "--------------------------------------------------\n",
      "University (1 unique values):\n",
      "['Illinois Institute of Technology']\n",
      "--------------------------------------------------\n",
      "Status (1 unique values):\n",
      "['Completed']\n",
      "--------------------------------------------------\n",
      "Start_Date (17 unique values):\n",
      "<DatetimeArray>\n",
      "['2024-03-20 00:00:00', '2024-09-11 00:00:00', '2024-07-11 00:00:00',\n",
      " '2024-03-06 00:00:00', '2024-03-08 00:00:00', '2023-04-28 00:00:00',\n",
      " '2023-07-03 00:00:00', '2023-05-16 00:00:00', '2023-07-05 00:00:00',\n",
      " '2024-12-05 00:00:00', '2024-10-09 00:00:00', '2024-10-22 00:00:00',\n",
      " '2024-11-05 00:00:00', '2024-10-07 00:00:00', '2024-10-18 00:00:00',\n",
      " '2023-05-18 00:00:00', '2024-07-17 00:00:00']\n",
      "Length: 17, dtype: datetime64[ns]\n",
      "--------------------------------------------------\n"
     ]
    }
   ],
   "source": [
    "# Check unique values for each column\n",
    "for col in df.columns:\n",
    "    unique_vals = df[col].unique()\n",
    "    print(f\"{col} ({len(unique_vals)} unique values):\")\n",
    "    print(unique_vals)\n",
    "    print(\"-\" * 50)"
   ]
  },
  {
   "cell_type": "markdown",
   "id": "bb8da03b",
   "metadata": {},
   "source": [
    "Exporting Cleaned Dataset"
   ]
  },
  {
   "cell_type": "code",
   "execution_count": 28,
   "id": "f3c8d5b6",
   "metadata": {},
   "outputs": [
    {
     "name": "stdout",
     "output_type": "stream",
     "text": [
      "Dataset exported successfully as Cleaned_CampaignData.csv\n"
     ]
    }
   ],
   "source": [
    "df.to_csv(\"Cleaned_CampaignData.csv\", index=False)\n",
    "\n",
    "print(\"Dataset exported successfully as Cleaned_CampaignData.csv\")"
   ]
  },
  {
   "cell_type": "markdown",
   "id": "01332e0e",
   "metadata": {},
   "source": [
    "# Finally \"CampaignData.csv\" Dataset is Cleaned !"
   ]
  }
 ],
 "metadata": {
  "kernelspec": {
   "display_name": "Python 3",
   "language": "python",
   "name": "python3"
  },
  "language_info": {
   "codemirror_mode": {
    "name": "ipython",
    "version": 3
   },
   "file_extension": ".py",
   "mimetype": "text/x-python",
   "name": "python",
   "nbconvert_exporter": "python",
   "pygments_lexer": "ipython3",
   "version": "3.12.8"
  }
 },
 "nbformat": 4,
 "nbformat_minor": 5
}
