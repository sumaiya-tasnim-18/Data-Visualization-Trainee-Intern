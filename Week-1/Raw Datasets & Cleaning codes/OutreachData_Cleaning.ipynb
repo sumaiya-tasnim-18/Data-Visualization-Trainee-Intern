{
 "cells": [
  {
   "cell_type": "markdown",
   "id": "8d5a57b8",
   "metadata": {},
   "source": [
    "# Dataset: OutreachData.csv\n",
    "# Data Cleaning Process"
   ]
  },
  {
   "cell_type": "markdown",
   "id": "b505bed0",
   "metadata": {},
   "source": [
    "Importing necessary libraries"
   ]
  },
  {
   "cell_type": "code",
   "execution_count": 1,
   "id": "0bb68ab9",
   "metadata": {},
   "outputs": [],
   "source": [
    "import numpy as np\n",
    "import pandas as pd"
   ]
  },
  {
   "cell_type": "markdown",
   "id": "e7a1d3ad",
   "metadata": {},
   "source": [
    "Loading Dataset "
   ]
  },
  {
   "cell_type": "code",
   "execution_count": 2,
   "id": "1e8e5b5d",
   "metadata": {},
   "outputs": [],
   "source": [
    "df = pd.read_csv(\"OutreachData.csv\")"
   ]
  },
  {
   "cell_type": "markdown",
   "id": "29999755",
   "metadata": {},
   "source": [
    "Total Rows & Columns"
   ]
  },
  {
   "cell_type": "code",
   "execution_count": 3,
   "id": "847af9ce",
   "metadata": {},
   "outputs": [
    {
     "name": "stdout",
     "output_type": "stream",
     "text": [
      "Total Rows: 37881\n",
      "Total Columns: 8\n"
     ]
    }
   ],
   "source": [
    "print(f\"Total Rows: {df.shape[0]}\")\n",
    "print(f\"Total Columns: {df.shape[1]}\")"
   ]
  },
  {
   "cell_type": "markdown",
   "id": "677ba6d6",
   "metadata": {},
   "source": [
    "Missing Values Checking"
   ]
  },
  {
   "cell_type": "code",
   "execution_count": 4,
   "id": "6fe854c0",
   "metadata": {},
   "outputs": [
    {
     "name": "stdout",
     "output_type": "stream",
     "text": [
      "Reference_ID               0\n",
      "Received_At                0\n",
      "University                 0\n",
      "Caller_Name                0\n",
      "Outcome_1                  0\n",
      "Remark                 33804\n",
      "Campaign_ID                0\n",
      "Escalation_Required        0\n",
      "dtype: int64\n"
     ]
    }
   ],
   "source": [
    "print(df.isnull().sum())"
   ]
  },
  {
   "cell_type": "markdown",
   "id": "4d9ec3e4",
   "metadata": {},
   "source": [
    "Replacing missing value with \"No Remark\" Value in Remark Column"
   ]
  },
  {
   "cell_type": "code",
   "execution_count": 5,
   "id": "d10fdd4e",
   "metadata": {},
   "outputs": [],
   "source": [
    "df['Remark'] = df['Remark'].fillna('No Remark')"
   ]
  },
  {
   "cell_type": "code",
   "execution_count": 6,
   "id": "248b89dd",
   "metadata": {},
   "outputs": [
    {
     "data": {
      "text/plain": [
       "0          No Remark\n",
       "1          No Remark\n",
       "2          No Remark\n",
       "3          No Remark\n",
       "4          No Remark\n",
       "5          No Remark\n",
       "6          No Remark\n",
       "7    within few days\n",
       "8          No Remark\n",
       "9          No Remark\n",
       "Name: Remark, dtype: object"
      ]
     },
     "execution_count": 6,
     "metadata": {},
     "output_type": "execute_result"
    }
   ],
   "source": [
    "df['Remark'].head(10)"
   ]
  },
  {
   "cell_type": "markdown",
   "id": "dcafb78a",
   "metadata": {},
   "source": [
    "Duplicate Rows Detecting"
   ]
  },
  {
   "cell_type": "code",
   "execution_count": 7,
   "id": "71f6554d",
   "metadata": {},
   "outputs": [
    {
     "name": "stdout",
     "output_type": "stream",
     "text": [
      "Duplicate Rows :  0\n"
     ]
    }
   ],
   "source": [
    "duplicates = df.duplicated().sum()\n",
    "print(\"Duplicate Rows : \",duplicates)"
   ]
  },
  {
   "cell_type": "markdown",
   "id": "dd00668e",
   "metadata": {},
   "source": [
    "Checking Datatype"
   ]
  },
  {
   "cell_type": "code",
   "execution_count": 8,
   "id": "dfd8014c",
   "metadata": {},
   "outputs": [
    {
     "name": "stdout",
     "output_type": "stream",
     "text": [
      "Reference_ID           object\n",
      "Received_At            object\n",
      "University             object\n",
      "Caller_Name            object\n",
      "Outcome_1              object\n",
      "Remark                 object\n",
      "Campaign_ID            object\n",
      "Escalation_Required    object\n",
      "dtype: object\n"
     ]
    }
   ],
   "source": [
    "print(df.dtypes)"
   ]
  },
  {
   "cell_type": "markdown",
   "id": "0be4e7b3",
   "metadata": {},
   "source": [
    "correcting datatype"
   ]
  },
  {
   "cell_type": "code",
   "execution_count": 9,
   "id": "f90bad4e",
   "metadata": {},
   "outputs": [
    {
     "name": "stdout",
     "output_type": "stream",
     "text": [
      "Reference_ID                   object\n",
      "Received_At            datetime64[ns]\n",
      "University                     object\n",
      "Caller_Name                    object\n",
      "Outcome_1                      object\n",
      "Remark                         object\n",
      "Campaign_ID                    object\n",
      "Escalation_Required            object\n",
      "dtype: object\n"
     ]
    }
   ],
   "source": [
    "# Converting Received_At to datetime only\n",
    "df['Received_At'] = pd.to_datetime(df['Received_At'], format='%m-%d-%Y %H:%M:%S', errors='raise')\n",
    "\n",
    "df['Reference_ID'] = df['Reference_ID'].astype(str)\n",
    "\n",
    "# Keeping all other columns as object (no category conversion because power BI can't recognize category but object)\n",
    "# Check datatypes\n",
    "print(df.dtypes)"
   ]
  },
  {
   "cell_type": "markdown",
   "id": "cfc8c643",
   "metadata": {},
   "source": [
    "Checking Received_At column if it looks fine or not"
   ]
  },
  {
   "cell_type": "code",
   "execution_count": 10,
   "id": "f7503f8f",
   "metadata": {},
   "outputs": [
    {
     "data": {
      "text/plain": [
       "0   2023-04-28 12:15:19\n",
       "1   2023-04-28 13:04:05\n",
       "2   2023-05-01 11:14:11\n",
       "3   2023-05-01 11:16:09\n",
       "4   2023-05-01 11:18:02\n",
       "5   2023-05-01 11:19:05\n",
       "6   2023-05-01 11:21:43\n",
       "7   2023-05-01 11:26:12\n",
       "8   2023-05-01 11:29:06\n",
       "9   2023-05-01 11:30:00\n",
       "Name: Received_At, dtype: datetime64[ns]"
      ]
     },
     "execution_count": 10,
     "metadata": {},
     "output_type": "execute_result"
    }
   ],
   "source": [
    "df['Received_At'].head(10)"
   ]
  },
  {
   "cell_type": "markdown",
   "id": "5d38e0aa",
   "metadata": {},
   "source": [
    "Checking Inconsistences"
   ]
  },
  {
   "cell_type": "code",
   "execution_count": 11,
   "id": "e429c1b6",
   "metadata": {},
   "outputs": [
    {
     "name": "stdout",
     "output_type": "stream",
     "text": [
      "\n",
      "Unique values in 'Reference_ID':\n",
      "['12345' '347397' '358065' ... '.....' ',,,,,' '/////////']\n",
      "\n",
      "Unique values in 'University':\n",
      "['Illinois Institute of Technology']\n",
      "\n",
      "Unique values in 'Caller_Name':\n",
      "['Shailja' 'Isha' 'Poppy' 'Namrata' 'Palak' 'Mounika' 'Twinkle' 'Rudra'\n",
      " 'Pranjal' 'Prajwal' 'Shrutish' 'Jyoti']\n",
      "\n",
      "Unique values in 'Outcome_1':\n",
      "['Connected' 'Reschedule' 'Not connected' 'Will Submit the docx'\n",
      " 'Completed application' 'Disconnected' 'Voicemail' 'Not interested'\n",
      " 'Want to defer' 'Wrong number' 'Not interested to IIT'\n",
      " 'Ready to pay the deposit' 'Not interested to Pay' 'Will confirm later'\n",
      " 'Already paid the deposit' 'Duplicate app' 'Still making a decision'\n",
      " 'Looking to defer admission to a future term (SP25 or FA25)'\n",
      " 'Will work on providing documents soon, still interested in FA24'\n",
      " 'Student is looking to defer to the SP25 or FA25 term'\n",
      " 'Student has the needed information, does not need assistance, and plans to enroll soon'\n",
      " 'Student is having trouble contacting their academic advisor and needs assistance'\n",
      " 'Student will not be attending Illinois Tech and needs to be withdrawn'\n",
      " 'Student is experiencing issues with the registration process/portal'\n",
      " 'Already Enrolled'\n",
      " 'Student has decided that they are no longer interested in Illinois Tech and will forfeit the deposit'\n",
      " 'Student is interested in deferring to Fall 2025 (August)'\n",
      " \"Student's VISA was denied, they aren't interested in a deferral, and they would like a refund of the enrollment deposit\"\n",
      " 'Student is interested in deferring to Spring 2025 (January)'\n",
      " 'Will start application soon' 'Application already stated'\n",
      " 'Student will join SP25 session'\n",
      " 'I901 paid- Visa appointment not Scheduled'\n",
      " 'Appointment scheduled-VISA status pending'\n",
      " 'VISA approved- Travel details required'\n",
      " 'I901 paid- Appointment Scheduled' 'VISA denied- Defer to next term'\n",
      " 'I901 paid- Visa Denied' 'I901 paid- Waiting for slot'\n",
      " 'i20 Sent-i901 payment pending' 'Application already started']\n",
      "\n",
      "Unique values in 'Remark':\n",
      "['No Remark' 'within few days' 'by next week' ... 'no plan' 'no plans'\n",
      " 'plan drop doing job']\n",
      "\n",
      "Unique values in 'Campaign_ID':\n",
      "['IANF23' 'CTKANF23' 'BPNANF23' 'OANF23' 'AANF23' 'IND23' 'OND23'\n",
      " 'BPNND23' 'AND23' 'FA24IP' 'FA24SIC' 'FA24AND' 'FA24DNI' 'DNA24' 'DANE24'\n",
      " 'FA24DNA' 'SP25IP' 'SP25AND' 'SP25SIC' 'SP25NIQ' 'SP25DN1' 'SP25DSP'\n",
      " 'SP25AI2S']\n",
      "\n",
      "Unique values in 'Escalation_Required':\n",
      "['No' 'Yes' 'Yes, No']\n"
     ]
    }
   ],
   "source": [
    "# The list of all object-type columns\n",
    "object_cols = df.select_dtypes(include='object').columns\n",
    "\n",
    "# checking unique values for each object column\n",
    "for col in object_cols:\n",
    "    print(f\"\\nUnique values in '{col}':\")\n",
    "    print(df[col].unique())"
   ]
  },
  {
   "cell_type": "markdown",
   "id": "db2e82a6",
   "metadata": {},
   "source": [
    "Reference_ID\n",
    "\n",
    "Some strange entries: ',,,,,', '/////////'\n",
    "\n",
    "Action: Keep only numeric/valid IDs."
   ]
  },
  {
   "cell_type": "code",
   "execution_count": 12,
   "id": "1948fb79",
   "metadata": {},
   "outputs": [
    {
     "name": "stdout",
     "output_type": "stream",
     "text": [
      "Total rows removed due to invalid Reference_IDs: 4762\n"
     ]
    }
   ],
   "source": [
    "# Create a mask for invalid Reference_IDs (non-numeric)\n",
    "mask_invalid = ~df['Reference_ID'].str.isnumeric()\n",
    "\n",
    "# Count how many rows will be removed\n",
    "removed_count = mask_invalid.sum()\n",
    "print(\"Total rows removed due to invalid Reference_IDs:\", removed_count)\n",
    "\n",
    "# Keep only rows with valid Reference_IDs\n",
    "df = df[df['Reference_ID'].str.isnumeric()]\n"
   ]
  },
  {
   "cell_type": "markdown",
   "id": "b4bcd628",
   "metadata": {},
   "source": [
    "Removing rows which Reference_ID = 0 (Reference_ID of 0 is usually invalid — IDs typically start from 1 or higher)"
   ]
  },
  {
   "cell_type": "code",
   "execution_count": 13,
   "id": "62f5b5eb",
   "metadata": {},
   "outputs": [
    {
     "name": "stdout",
     "output_type": "stream",
     "text": [
      "Total rows removed due to invalid or 0 Reference_IDs: 1\n"
     ]
    }
   ],
   "source": [
    "# Remove invalid Reference_IDs (non-numeric or 0)\n",
    "mask_invalid = ~df['Reference_ID'].str.isnumeric() | (df['Reference_ID'] == '0')\n",
    "\n",
    "# Count how many rows will be removed\n",
    "removed_count = mask_invalid.sum()\n",
    "print(\"Total rows removed due to invalid or 0 Reference_IDs:\", removed_count)\n",
    "\n",
    "# Keep only valid Reference_IDs\n",
    "df = df[~mask_invalid]\n"
   ]
  },
  {
   "cell_type": "markdown",
   "id": "2d8cc468",
   "metadata": {},
   "source": [
    "University\n",
    "\n",
    "Only one value → fine, no action needed."
   ]
  },
  {
   "cell_type": "markdown",
   "id": "9753b13f",
   "metadata": {},
   "source": [
    "Caller_Name\n",
    "\n",
    "Looks clean → just strip spaces to be safe."
   ]
  },
  {
   "cell_type": "code",
   "execution_count": 14,
   "id": "baf41258",
   "metadata": {},
   "outputs": [],
   "source": [
    "df['Caller_Name'] = df['Caller_Name'].str.strip()"
   ]
  },
  {
   "cell_type": "markdown",
   "id": "4249e7e6",
   "metadata": {},
   "source": [
    "Outcome_1\n",
    "\n",
    "Very long text for some outcomes → Power BI can handle it, but might want standardization:\n",
    "\n",
    "Removing leading/trailing spaces\n",
    "\n",
    "Fixig inconsistent casing"
   ]
  },
  {
   "cell_type": "code",
   "execution_count": 15,
   "id": "edb3caad",
   "metadata": {},
   "outputs": [],
   "source": [
    "df['Outcome_1'] = df['Outcome_1'].str.strip()"
   ]
  },
  {
   "cell_type": "markdown",
   "id": "850b9d45",
   "metadata": {},
   "source": [
    "Remark\n",
    "\n",
    "Mostly clean, already filled 'No Remark'\n",
    "\n",
    "Strip spaces for safety"
   ]
  },
  {
   "cell_type": "code",
   "execution_count": 16,
   "id": "d39285b1",
   "metadata": {},
   "outputs": [],
   "source": [
    "df['Remark'] = df['Remark'].str.strip()"
   ]
  },
  {
   "cell_type": "markdown",
   "id": "b32e1ea6",
   "metadata": {},
   "source": [
    "Campaign_ID\n",
    "\n",
    "Looks fine, strip spaces"
   ]
  },
  {
   "cell_type": "code",
   "execution_count": 17,
   "id": "066a03cd",
   "metadata": {},
   "outputs": [],
   "source": [
    "df['Campaign_ID'] = df['Campaign_ID'].str.strip()"
   ]
  },
  {
   "cell_type": "markdown",
   "id": "0d997ddf",
   "metadata": {},
   "source": [
    "Escalation_Required\n",
    "\n",
    "Values: 'No', 'Yes', 'Yes, No' → inconsistent\n",
    "\n",
    "Action: Standardizing of 'Yes,No' → 'Yes'\n",
    "\n",
    "Reason: we converting 'Yes, No' to 'Yes' because For dashboards → any instance of escalation is important to track."
   ]
  },
  {
   "cell_type": "code",
   "execution_count": 18,
   "id": "f11124dd",
   "metadata": {},
   "outputs": [],
   "source": [
    "df['Escalation_Required'] = df['Escalation_Required'].str.strip()\n",
    "df['Escalation_Required'] = df['Escalation_Required'].replace({'Yes, No': 'Yes'})"
   ]
  },
  {
   "cell_type": "markdown",
   "id": "68194e1e",
   "metadata": {},
   "source": [
    "Checking Consistency"
   ]
  },
  {
   "cell_type": "code",
   "execution_count": 19,
   "id": "754196b1",
   "metadata": {},
   "outputs": [
    {
     "name": "stdout",
     "output_type": "stream",
     "text": [
      "\n",
      "Unique values in 'Reference_ID':\n",
      "['12345' '347397' '358065' ... '98077675' '9876789' '425358']\n",
      "\n",
      "Unique values in 'University':\n",
      "['Illinois Institute of Technology']\n",
      "\n",
      "Unique values in 'Caller_Name':\n",
      "['Shailja' 'Isha' 'Poppy' 'Namrata' 'Palak' 'Mounika' 'Twinkle' 'Rudra'\n",
      " 'Pranjal' 'Prajwal' 'Shrutish' 'Jyoti']\n",
      "\n",
      "Unique values in 'Outcome_1':\n",
      "['Connected' 'Reschedule' 'Not connected' 'Will Submit the docx'\n",
      " 'Completed application' 'Disconnected' 'Voicemail' 'Not interested'\n",
      " 'Want to defer' 'Wrong number' 'Not interested to IIT'\n",
      " 'Ready to pay the deposit' 'Not interested to Pay' 'Will confirm later'\n",
      " 'Already paid the deposit' 'Duplicate app' 'Still making a decision'\n",
      " 'Looking to defer admission to a future term (SP25 or FA25)'\n",
      " 'Will work on providing documents soon, still interested in FA24'\n",
      " 'Student is looking to defer to the SP25 or FA25 term'\n",
      " 'Student has the needed information, does not need assistance, and plans to enroll soon'\n",
      " 'Student is having trouble contacting their academic advisor and needs assistance'\n",
      " 'Student will not be attending Illinois Tech and needs to be withdrawn'\n",
      " 'Student is experiencing issues with the registration process/portal'\n",
      " 'Already Enrolled'\n",
      " 'Student has decided that they are no longer interested in Illinois Tech and will forfeit the deposit'\n",
      " 'Student is interested in deferring to Fall 2025 (August)'\n",
      " \"Student's VISA was denied, they aren't interested in a deferral, and they would like a refund of the enrollment deposit\"\n",
      " 'Student is interested in deferring to Spring 2025 (January)'\n",
      " 'Will start application soon' 'Student will join SP25 session'\n",
      " 'Application already stated' 'I901 paid- Visa appointment not Scheduled'\n",
      " 'Appointment scheduled-VISA status pending'\n",
      " 'VISA approved- Travel details required'\n",
      " 'I901 paid- Appointment Scheduled' 'VISA denied- Defer to next term'\n",
      " 'I901 paid- Visa Denied' 'I901 paid- Waiting for slot'\n",
      " 'i20 Sent-i901 payment pending' 'Application already started']\n",
      "\n",
      "Unique values in 'Remark':\n",
      "['No Remark' 'within few days' 'by next week' ...\n",
      " 'Admitted to another university' 'will join IIT at 7/1/2025'\n",
      " 'visa slot not available so want to defer.']\n",
      "\n",
      "Unique values in 'Campaign_ID':\n",
      "['IANF23' 'CTKANF23' 'BPNANF23' 'OANF23' 'AANF23' 'IND23' 'OND23'\n",
      " 'BPNND23' 'AND23' 'FA24IP' 'FA24SIC' 'FA24AND' 'FA24DNI' 'DNA24' 'DANE24'\n",
      " 'FA24DNA' 'SP25IP' 'SP25AND' 'SP25SIC' 'SP25DN1' 'SP25NIQ' 'SP25DSP'\n",
      " 'SP25AI2S']\n",
      "\n",
      "Unique values in 'Escalation_Required':\n",
      "['No' 'Yes']\n"
     ]
    }
   ],
   "source": [
    "# List all object-type columns\n",
    "object_cols = df.select_dtypes(include='object').columns\n",
    "\n",
    "# unique values for each object column\n",
    "for col in object_cols:\n",
    "    print(f\"\\nUnique values in '{col}':\")\n",
    "    print(df[col].unique())"
   ]
  },
  {
   "cell_type": "code",
   "execution_count": 20,
   "id": "4fdbb8ec",
   "metadata": {},
   "outputs": [
    {
     "name": "stdout",
     "output_type": "stream",
     "text": [
      "<DatetimeArray>\n",
      "['2023-04-28 12:15:19', '2023-04-28 13:04:05', '2023-05-01 11:14:11',\n",
      " '2023-05-01 11:16:09', '2023-05-01 11:18:02', '2023-05-01 11:19:05',\n",
      " '2023-05-01 11:21:43', '2023-05-01 11:26:12', '2023-05-01 11:29:06',\n",
      " '2023-05-01 11:30:00',\n",
      " ...\n",
      " '2024-12-24 16:16:34', '2024-12-24 16:18:03', '2024-12-24 16:20:05',\n",
      " '2024-12-24 16:21:43', '2024-12-24 16:24:35', '2024-12-24 16:27:14',\n",
      " '2024-12-24 16:30:13', '2024-12-24 16:32:12', '2024-12-24 16:34:06',\n",
      " '2024-12-24 16:36:17']\n",
      "Length: 33045, dtype: datetime64[ns]\n"
     ]
    }
   ],
   "source": [
    "unique_dates = df['Received_At'].unique()\n",
    "print(unique_dates)"
   ]
  },
  {
   "cell_type": "markdown",
   "id": "c3e3e373",
   "metadata": {},
   "source": [
    "Verifying Dataset Overall "
   ]
  },
  {
   "cell_type": "code",
   "execution_count": 21,
   "id": "3312226c",
   "metadata": {},
   "outputs": [
    {
     "name": "stdout",
     "output_type": "stream",
     "text": [
      "=== Missing Values per Column ===\n",
      "Reference_ID           0\n",
      "Received_At            0\n",
      "University             0\n",
      "Caller_Name            0\n",
      "Outcome_1              0\n",
      "Remark                 0\n",
      "Campaign_ID            0\n",
      "Escalation_Required    0\n",
      "dtype: int64\n",
      "\n",
      "=== Duplicate Rows ===\n",
      "0\n",
      "\n",
      "=== Data Types of Columns ===\n",
      "Reference_ID                   object\n",
      "Received_At            datetime64[ns]\n",
      "University                     object\n",
      "Caller_Name                    object\n",
      "Outcome_1                      object\n",
      "Remark                         object\n",
      "Campaign_ID                    object\n",
      "Escalation_Required            object\n",
      "dtype: object\n",
      "\n",
      "\n",
      "Total Rows: 33118\n",
      "Total Columns: 8\n"
     ]
    }
   ],
   "source": [
    "# Display missing values per column\n",
    "print(\"=== Missing Values per Column ===\")\n",
    "print(df.isnull().sum())\n",
    "\n",
    "# Display number of duplicate rows\n",
    "print(\"\\n=== Duplicate Rows ===\")\n",
    "print(df.duplicated().sum())\n",
    "\n",
    "# Display data types of all columns\n",
    "print(\"\\n=== Data Types of Columns ===\")\n",
    "print(df.dtypes)\n",
    "\n",
    "print (\"\\n\")\n",
    "# Checking Total Rows & Columns\n",
    "print(f\"Total Rows: {df.shape[0]}\")\n",
    "print(f\"Total Columns: {df.shape[1]}\")"
   ]
  },
  {
   "cell_type": "markdown",
   "id": "5bb6aa6e",
   "metadata": {},
   "source": [
    "Viewing Dataset after Data Cleaning"
   ]
  },
  {
   "cell_type": "code",
   "execution_count": 22,
   "id": "a6f2fa5b",
   "metadata": {},
   "outputs": [
    {
     "data": {
      "text/html": [
       "<div>\n",
       "<style scoped>\n",
       "    .dataframe tbody tr th:only-of-type {\n",
       "        vertical-align: middle;\n",
       "    }\n",
       "\n",
       "    .dataframe tbody tr th {\n",
       "        vertical-align: top;\n",
       "    }\n",
       "\n",
       "    .dataframe thead th {\n",
       "        text-align: right;\n",
       "    }\n",
       "</style>\n",
       "<table border=\"1\" class=\"dataframe\">\n",
       "  <thead>\n",
       "    <tr style=\"text-align: right;\">\n",
       "      <th></th>\n",
       "      <th>Reference_ID</th>\n",
       "      <th>Received_At</th>\n",
       "      <th>University</th>\n",
       "      <th>Caller_Name</th>\n",
       "      <th>Outcome_1</th>\n",
       "      <th>Remark</th>\n",
       "      <th>Campaign_ID</th>\n",
       "      <th>Escalation_Required</th>\n",
       "    </tr>\n",
       "  </thead>\n",
       "  <tbody>\n",
       "    <tr>\n",
       "      <th>0</th>\n",
       "      <td>12345</td>\n",
       "      <td>2023-04-28 12:15:19</td>\n",
       "      <td>Illinois Institute of Technology</td>\n",
       "      <td>Shailja</td>\n",
       "      <td>Connected</td>\n",
       "      <td>No Remark</td>\n",
       "      <td>IANF23</td>\n",
       "      <td>No</td>\n",
       "    </tr>\n",
       "    <tr>\n",
       "      <th>1</th>\n",
       "      <td>12345</td>\n",
       "      <td>2023-04-28 13:04:05</td>\n",
       "      <td>Illinois Institute of Technology</td>\n",
       "      <td>Shailja</td>\n",
       "      <td>Reschedule</td>\n",
       "      <td>No Remark</td>\n",
       "      <td>IANF23</td>\n",
       "      <td>No</td>\n",
       "    </tr>\n",
       "    <tr>\n",
       "      <th>2</th>\n",
       "      <td>12345</td>\n",
       "      <td>2023-05-01 11:14:11</td>\n",
       "      <td>Illinois Institute of Technology</td>\n",
       "      <td>Shailja</td>\n",
       "      <td>Connected</td>\n",
       "      <td>No Remark</td>\n",
       "      <td>IANF23</td>\n",
       "      <td>No</td>\n",
       "    </tr>\n",
       "    <tr>\n",
       "      <th>3</th>\n",
       "      <td>347397</td>\n",
       "      <td>2023-05-01 11:16:09</td>\n",
       "      <td>Illinois Institute of Technology</td>\n",
       "      <td>Isha</td>\n",
       "      <td>Not connected</td>\n",
       "      <td>No Remark</td>\n",
       "      <td>IANF23</td>\n",
       "      <td>No</td>\n",
       "    </tr>\n",
       "    <tr>\n",
       "      <th>4</th>\n",
       "      <td>347397</td>\n",
       "      <td>2023-05-01 11:18:02</td>\n",
       "      <td>Illinois Institute of Technology</td>\n",
       "      <td>Isha</td>\n",
       "      <td>Connected</td>\n",
       "      <td>No Remark</td>\n",
       "      <td>IANF23</td>\n",
       "      <td>No</td>\n",
       "    </tr>\n",
       "    <tr>\n",
       "      <th>5</th>\n",
       "      <td>358065</td>\n",
       "      <td>2023-05-01 11:19:05</td>\n",
       "      <td>Illinois Institute of Technology</td>\n",
       "      <td>Isha</td>\n",
       "      <td>Not connected</td>\n",
       "      <td>No Remark</td>\n",
       "      <td>IANF23</td>\n",
       "      <td>No</td>\n",
       "    </tr>\n",
       "    <tr>\n",
       "      <th>6</th>\n",
       "      <td>351333</td>\n",
       "      <td>2023-05-01 11:21:43</td>\n",
       "      <td>Illinois Institute of Technology</td>\n",
       "      <td>Isha</td>\n",
       "      <td>Not connected</td>\n",
       "      <td>No Remark</td>\n",
       "      <td>IANF23</td>\n",
       "      <td>No</td>\n",
       "    </tr>\n",
       "    <tr>\n",
       "      <th>7</th>\n",
       "      <td>346435</td>\n",
       "      <td>2023-05-01 11:26:12</td>\n",
       "      <td>Illinois Institute of Technology</td>\n",
       "      <td>Isha</td>\n",
       "      <td>Will Submit the docx</td>\n",
       "      <td>within few days</td>\n",
       "      <td>IANF23</td>\n",
       "      <td>No</td>\n",
       "    </tr>\n",
       "    <tr>\n",
       "      <th>8</th>\n",
       "      <td>355959</td>\n",
       "      <td>2023-05-01 11:29:06</td>\n",
       "      <td>Illinois Institute of Technology</td>\n",
       "      <td>Isha</td>\n",
       "      <td>Completed application</td>\n",
       "      <td>No Remark</td>\n",
       "      <td>IANF23</td>\n",
       "      <td>No</td>\n",
       "    </tr>\n",
       "    <tr>\n",
       "      <th>9</th>\n",
       "      <td>351520</td>\n",
       "      <td>2023-05-01 11:30:00</td>\n",
       "      <td>Illinois Institute of Technology</td>\n",
       "      <td>Shailja</td>\n",
       "      <td>Not connected</td>\n",
       "      <td>No Remark</td>\n",
       "      <td>IANF23</td>\n",
       "      <td>No</td>\n",
       "    </tr>\n",
       "  </tbody>\n",
       "</table>\n",
       "</div>"
      ],
      "text/plain": [
       "  Reference_ID         Received_At                        University  \\\n",
       "0        12345 2023-04-28 12:15:19  Illinois Institute of Technology   \n",
       "1        12345 2023-04-28 13:04:05  Illinois Institute of Technology   \n",
       "2        12345 2023-05-01 11:14:11  Illinois Institute of Technology   \n",
       "3       347397 2023-05-01 11:16:09  Illinois Institute of Technology   \n",
       "4       347397 2023-05-01 11:18:02  Illinois Institute of Technology   \n",
       "5       358065 2023-05-01 11:19:05  Illinois Institute of Technology   \n",
       "6       351333 2023-05-01 11:21:43  Illinois Institute of Technology   \n",
       "7       346435 2023-05-01 11:26:12  Illinois Institute of Technology   \n",
       "8       355959 2023-05-01 11:29:06  Illinois Institute of Technology   \n",
       "9       351520 2023-05-01 11:30:00  Illinois Institute of Technology   \n",
       "\n",
       "  Caller_Name              Outcome_1           Remark Campaign_ID  \\\n",
       "0     Shailja              Connected        No Remark      IANF23   \n",
       "1     Shailja             Reschedule        No Remark      IANF23   \n",
       "2     Shailja              Connected        No Remark      IANF23   \n",
       "3        Isha          Not connected        No Remark      IANF23   \n",
       "4        Isha              Connected        No Remark      IANF23   \n",
       "5        Isha          Not connected        No Remark      IANF23   \n",
       "6        Isha          Not connected        No Remark      IANF23   \n",
       "7        Isha   Will Submit the docx  within few days      IANF23   \n",
       "8        Isha  Completed application        No Remark      IANF23   \n",
       "9     Shailja          Not connected        No Remark      IANF23   \n",
       "\n",
       "  Escalation_Required  \n",
       "0                  No  \n",
       "1                  No  \n",
       "2                  No  \n",
       "3                  No  \n",
       "4                  No  \n",
       "5                  No  \n",
       "6                  No  \n",
       "7                  No  \n",
       "8                  No  \n",
       "9                  No  "
      ]
     },
     "execution_count": 22,
     "metadata": {},
     "output_type": "execute_result"
    }
   ],
   "source": [
    "df.head(10)"
   ]
  },
  {
   "cell_type": "markdown",
   "id": "a63286a3",
   "metadata": {},
   "source": [
    "Exporting Cleaned Dataset"
   ]
  },
  {
   "cell_type": "code",
   "execution_count": 23,
   "id": "5c994319",
   "metadata": {},
   "outputs": [],
   "source": [
    "df.to_csv(\"Cleaned_OutreachData.csv\", index=False)"
   ]
  },
  {
   "cell_type": "markdown",
   "id": "f06ba289",
   "metadata": {},
   "source": [
    "# Finally \"OutreachData.csv\" Dataset is Cleaned !"
   ]
  }
 ],
 "metadata": {
  "kernelspec": {
   "display_name": "Python 3",
   "language": "python",
   "name": "python3"
  },
  "language_info": {
   "codemirror_mode": {
    "name": "ipython",
    "version": 3
   },
   "file_extension": ".py",
   "mimetype": "text/x-python",
   "name": "python",
   "nbconvert_exporter": "python",
   "pygments_lexer": "ipython3",
   "version": "3.12.8"
  }
 },
 "nbformat": 4,
 "nbformat_minor": 5
}
