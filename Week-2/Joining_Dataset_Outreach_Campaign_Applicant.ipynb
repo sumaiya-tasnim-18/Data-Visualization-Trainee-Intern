{
 "cells": [
  {
   "cell_type": "markdown",
   "id": "ae86a4e5",
   "metadata": {},
   "source": [
    "## Joining The Datasets Together\n",
    "Datasets : Cleaned_Outreach.csv , Cleaned_Campaign.csv , Cleaned_ApplicantData.csv"
   ]
  },
  {
   "cell_type": "code",
   "execution_count": 7,
   "id": "aad1a2ae",
   "metadata": {},
   "outputs": [
    {
     "name": "stdout",
     "output_type": "stream",
     "text": [
      "   Reference_ID          Received_At                      University_x  \\\n",
      "0         12345  2023-04-28 12:15:19  Illinois Institute of Technology   \n",
      "1         12345  2023-04-28 12:15:19  Illinois Institute of Technology   \n",
      "2         12345  2023-04-28 12:15:19  Illinois Institute of Technology   \n",
      "3         12345  2023-04-28 13:04:05  Illinois Institute of Technology   \n",
      "4         12345  2023-04-28 13:04:05  Illinois Institute of Technology   \n",
      "\n",
      "  Caller_Name   Outcome_1     Remark Campaign_ID Escalation_Required  \\\n",
      "0     Shailja   Connected  No Remark      IANF23                  No   \n",
      "1     Shailja   Connected  No Remark      IANF23                  No   \n",
      "2     Shailja   Connected  No Remark      IANF23                  No   \n",
      "3     Shailja  Reschedule  No Remark      IANF23                  No   \n",
      "4     Shailja  Reschedule  No Remark      IANF23                  No   \n",
      "\n",
      "                                     Name        Category  Intake  \\\n",
      "0  GR GS SP25 Campaign- Deferrals to SP25  Post Admission  AY2024   \n",
      "1  GR GS SP25 Campaign- Deferrals to SP25  Post Admission  AY2024   \n",
      "2  GR GS SP25 Campaign- Deferrals to SP25  Post Admission  AY2024   \n",
      "3  GR GS SP25 Campaign- Deferrals to SP25  Post Admission  AY2024   \n",
      "4  GR GS SP25 Campaign- Deferrals to SP25  Post Admission  AY2024   \n",
      "\n",
      "                       University_y     Status  Start_Date Country  \\\n",
      "0  Illinois Institute of Technology  Completed  2024-11-05   India   \n",
      "1  Illinois Institute of Technology  Completed  2024-11-05   India   \n",
      "2  Illinois Institute of Technology  Completed  2024-11-05   India   \n",
      "3  Illinois Institute of Technology  Completed  2024-11-05   India   \n",
      "4  Illinois Institute of Technology  Completed  2024-11-05   India   \n",
      "\n",
      "                         University Phone_Number  \n",
      "0  Illinois Institute of Technology   9823241234  \n",
      "1  Illinois Institute of Technology   8805617501  \n",
      "2  Illinois Institute of Technology  18019011222  \n",
      "3  Illinois Institute of Technology   9823241234  \n",
      "4  Illinois Institute of Technology   8805617501  \n"
     ]
    }
   ],
   "source": [
    "import pandas as pd\n",
    "\n",
    "# Load the datasets\n",
    "outreach_df = pd.read_csv('Cleaned_OutreachData.csv')\n",
    "campaign_df = pd.read_csv('Cleaned_CampaignData.csv')\n",
    "applicant_df = pd.read_csv('Cleaned_ApplicantData.csv')\n",
    "\n",
    "# Step 1: Merge Outreach with Campaign\n",
    "merged_df = outreach_df.merge(\n",
    "    campaign_df,\n",
    "    left_on='Campaign_ID',\n",
    "    right_on='ID',\n",
    "    how='left'  # keep all outreach rows\n",
    ")\n",
    "\n",
    "# Drop duplicate ID column from Campaign\n",
    "merged_df.drop(columns=['ID'], inplace=True)\n",
    "\n",
    "# Step 2: Merge the result with Applicant Data\n",
    "final_df = merged_df.merge(\n",
    "    applicant_df,\n",
    "    left_on='Reference_ID',\n",
    "    right_on='App_ID',\n",
    "    how='left'  # keep all outreach rows even if no matching applicant\n",
    ")\n",
    "\n",
    "# Optional: drop duplicate App_ID column if needed\n",
    "final_df.drop(columns=['App_ID'], inplace=True)\n",
    "\n",
    "# Check final dataframe\n",
    "print(final_df.head())"
   ]
  },
  {
   "cell_type": "markdown",
   "id": "eae02de9",
   "metadata": {},
   "source": [
    "checking shape"
   ]
  },
  {
   "cell_type": "code",
   "execution_count": 14,
   "id": "f1da7c23",
   "metadata": {},
   "outputs": [
    {
     "data": {
      "text/plain": [
       "(39717, 17)"
      ]
     },
     "execution_count": 14,
     "metadata": {},
     "output_type": "execute_result"
    }
   ],
   "source": [
    "final_df.shape"
   ]
  },
  {
   "cell_type": "code",
   "execution_count": 15,
   "id": "d60ec159",
   "metadata": {},
   "outputs": [
    {
     "data": {
      "text/plain": [
       "Reference_ID            int64\n",
       "Received_At            object\n",
       "University_x           object\n",
       "Caller_Name            object\n",
       "Outcome_1              object\n",
       "Remark                 object\n",
       "Campaign_ID            object\n",
       "Escalation_Required    object\n",
       "Name                   object\n",
       "Category               object\n",
       "Intake                 object\n",
       "University_y           object\n",
       "Status                 object\n",
       "Start_Date             object\n",
       "Country                object\n",
       "University             object\n",
       "Phone_Number           object\n",
       "dtype: object"
      ]
     },
     "execution_count": 15,
     "metadata": {},
     "output_type": "execute_result"
    }
   ],
   "source": [
    "final_df.dtypes"
   ]
  },
  {
   "cell_type": "markdown",
   "id": "25411d6c",
   "metadata": {},
   "source": [
    "Verifying dataset "
   ]
  },
  {
   "cell_type": "code",
   "execution_count": 16,
   "id": "7abad358",
   "metadata": {},
   "outputs": [
    {
     "name": "stdout",
     "output_type": "stream",
     "text": [
      "Missing values in each column:\n",
      "Reference_ID            0\n",
      "Received_At             0\n",
      "University_x            0\n",
      "Caller_Name             0\n",
      "Outcome_1               0\n",
      "Remark                  0\n",
      "Campaign_ID             0\n",
      "Escalation_Required     0\n",
      "Name                    0\n",
      "Category                0\n",
      "Intake                  0\n",
      "University_y            0\n",
      "Status                  0\n",
      "Start_Date              0\n",
      "Country                 0\n",
      "University              0\n",
      "Phone_Number           11\n",
      "dtype: int64\n",
      "\n",
      "Number of duplicate rows: 0\n"
     ]
    }
   ],
   "source": [
    "# Check for missing values\n",
    "missing_summary = final_df.isnull().sum()\n",
    "print(\"Missing values in each column:\")\n",
    "print(missing_summary)\n",
    "\n",
    "# Check for duplicate rows\n",
    "duplicate_count = final_df.duplicated().sum()\n",
    "print(f\"\\nNumber of duplicate rows: {duplicate_count}\")"
   ]
  },
  {
   "cell_type": "markdown",
   "id": "7d75af24",
   "metadata": {},
   "source": [
    "missing values replacing"
   ]
  },
  {
   "cell_type": "code",
   "execution_count": 17,
   "id": "1a1cc64f",
   "metadata": {},
   "outputs": [
    {
     "name": "stdout",
     "output_type": "stream",
     "text": [
      "Number of missing Phone_Number entries to be filled: 11\n",
      "Missing values after filling: 0\n"
     ]
    }
   ],
   "source": [
    "# Count missing Phone_Number before filling\n",
    "missing_count = final_df['Phone_Number'].isna().sum()\n",
    "print(f\"Number of missing Phone_Number entries to be filled: {missing_count}\")\n",
    "\n",
    "# Fill missing phone numbers\n",
    "final_df['Phone_Number'] = final_df['Phone_Number'].fillna('Not Available')\n",
    "\n",
    "# Verify after filling\n",
    "print(\"Missing values after filling:\", final_df['Phone_Number'].isna().sum())\n"
   ]
  },
  {
   "cell_type": "markdown",
   "id": "3ebe0ecf",
   "metadata": {},
   "source": [
    "Exporting Cleaned joined Dataset"
   ]
  },
  {
   "cell_type": "code",
   "execution_count": 18,
   "id": "507a7447",
   "metadata": {},
   "outputs": [
    {
     "name": "stdout",
     "output_type": "stream",
     "text": [
      "Outreach_Campaign_Applicants_FinalData.csv created successfully!\n"
     ]
    }
   ],
   "source": [
    "# Export the final dataset\n",
    "final_df.to_csv('Outreach_Campaign_Applicants_FinalData.csv', index=False)\n",
    "\n",
    "print(\"Outreach_Campaign_Applicants_FinalData.csv created successfully!\")"
   ]
  }
 ],
 "metadata": {
  "kernelspec": {
   "display_name": "Python 3",
   "language": "python",
   "name": "python3"
  },
  "language_info": {
   "codemirror_mode": {
    "name": "ipython",
    "version": 3
   },
   "file_extension": ".py",
   "mimetype": "text/x-python",
   "name": "python",
   "nbconvert_exporter": "python",
   "pygments_lexer": "ipython3",
   "version": "3.12.8"
  }
 },
 "nbformat": 4,
 "nbformat_minor": 5
}
